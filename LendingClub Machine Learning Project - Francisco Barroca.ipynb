{
 "cells": [
  {
   "cell_type": "markdown",
   "id": "d9f3684a",
   "metadata": {},
   "source": [
    "# LendingClub Machine Learning Project - Francisco Barroca"
   ]
  },
  {
   "cell_type": "markdown",
   "id": "2dd340bb",
   "metadata": {},
   "source": [
    "----\n",
    "-----\n",
    "## There are many LendingClub data sets on Kaggle. Here is the information on this particular data set:\n",
    "\n",
    "<table border=\"1\" class=\"dataframe\">\n",
    "  <thead>\n",
    "    <tr style=\"text-align: right;\">\n",
    "      <th></th>\n",
    "      <th>LoanStatNew</th>\n",
    "      <th>Description</th>\n",
    "    </tr>\n",
    "  </thead>\n",
    "  <tbody>\n",
    "    <tr>\n",
    "      <th>0</th>\n",
    "      <td>loan_amnt</td>\n",
    "      <td>The listed amount of the loan applied for by the borrower. If at some point in time, the credit department reduces the loan amount, then it will be reflected in this value.</td>\n",
    "    </tr>\n",
    "    <tr>\n",
    "      <th>1</th>\n",
    "      <td>term</td>\n",
    "      <td>The number of payments on the loan. Values are in months and can be either 36 or 60.</td>\n",
    "    </tr>\n",
    "    <tr>\n",
    "      <th>2</th>\n",
    "      <td>int_rate</td>\n",
    "      <td>Interest Rate on the loan</td>\n",
    "    </tr>\n",
    "    <tr>\n",
    "      <th>3</th>\n",
    "      <td>installment</td>\n",
    "      <td>The monthly payment owed by the borrower if the loan originates.</td>\n",
    "    </tr>\n",
    "    <tr>\n",
    "      <th>4</th>\n",
    "      <td>grade</td>\n",
    "      <td>LC assigned loan grade</td>\n",
    "    </tr>\n",
    "    <tr>\n",
    "      <th>5</th>\n",
    "      <td>sub_grade</td>\n",
    "      <td>LC assigned loan subgrade</td>\n",
    "    </tr>\n",
    "    <tr>\n",
    "      <th>6</th>\n",
    "      <td>emp_title</td>\n",
    "      <td>The job title supplied by the Borrower when applying for the loan.*</td>\n",
    "    </tr>\n",
    "    <tr>\n",
    "      <th>7</th>\n",
    "      <td>emp_length</td>\n",
    "      <td>Employment length in years. Possible values are between 0 and 10 where 0 means less than one year and 10 means ten or more years.</td>\n",
    "    </tr>\n",
    "    <tr>\n",
    "      <th>8</th>\n",
    "      <td>home_ownership</td>\n",
    "      <td>The home ownership status provided by the borrower during registration or obtained from the credit report. Our values are: RENT, OWN, MORTGAGE, OTHER</td>\n",
    "    </tr>\n",
    "    <tr>\n",
    "      <th>9</th>\n",
    "      <td>annual_inc</td>\n",
    "      <td>The self-reported annual income provided by the borrower during registration.</td>\n",
    "    </tr>\n",
    "    <tr>\n",
    "      <th>10</th>\n",
    "      <td>verification_status</td>\n",
    "      <td>Indicates if income was verified by LC, not verified, or if the income source was verified</td>\n",
    "    </tr>\n",
    "    <tr>\n",
    "      <th>11</th>\n",
    "      <td>issue_d</td>\n",
    "      <td>The month which the loan was funded</td>\n",
    "    </tr>\n",
    "    <tr>\n",
    "      <th>12</th>\n",
    "      <td>loan_status</td>\n",
    "      <td>Current status of the loan</td>\n",
    "    </tr>\n",
    "    <tr>\n",
    "      <th>13</th>\n",
    "      <td>purpose</td>\n",
    "      <td>A category provided by the borrower for the loan request.</td>\n",
    "    </tr>\n",
    "    <tr>\n",
    "      <th>14</th>\n",
    "      <td>title</td>\n",
    "      <td>The loan title provided by the borrower</td>\n",
    "    </tr>\n",
    "    <tr>\n",
    "      <th>15</th>\n",
    "      <td>zip_code</td>\n",
    "      <td>The first 3 numbers of the zip code provided by the borrower in the loan application.</td>\n",
    "    </tr>\n",
    "    <tr>\n",
    "      <th>16</th>\n",
    "      <td>addr_state</td>\n",
    "      <td>The state provided by the borrower in the loan application</td>\n",
    "    </tr>\n",
    "    <tr>\n",
    "      <th>17</th>\n",
    "      <td>dti</td>\n",
    "      <td>A ratio calculated using the borrower’s total monthly debt payments on the total debt obligations, excluding mortgage and the requested LC loan, divided by the borrower’s self-reported monthly income.</td>\n",
    "    </tr>\n",
    "    <tr>\n",
    "      <th>18</th>\n",
    "      <td>earliest_cr_line</td>\n",
    "      <td>The month the borrower's earliest reported credit line was opened</td>\n",
    "    </tr>\n",
    "    <tr>\n",
    "      <th>19</th>\n",
    "      <td>open_acc</td>\n",
    "      <td>The number of open credit lines in the borrower's credit file.</td>\n",
    "    </tr>\n",
    "    <tr>\n",
    "      <th>20</th>\n",
    "      <td>pub_rec</td>\n",
    "      <td>Number of derogatory public records</td>\n",
    "    </tr>\n",
    "    <tr>\n",
    "      <th>21</th>\n",
    "      <td>revol_bal</td>\n",
    "      <td>Total credit revolving balance</td>\n",
    "    </tr>\n",
    "    <tr>\n",
    "      <th>22</th>\n",
    "      <td>revol_util</td>\n",
    "      <td>Revolving line utilization rate, or the amount of credit the borrower is using relative to all available revolving credit.</td>\n",
    "    </tr>\n",
    "    <tr>\n",
    "      <th>23</th>\n",
    "      <td>total_acc</td>\n",
    "      <td>The total number of credit lines currently in the borrower's credit file</td>\n",
    "    </tr>\n",
    "    <tr>\n",
    "      <th>24</th>\n",
    "      <td>initial_list_status</td>\n",
    "      <td>The initial listing status of the loan. Possible values are – W, F</td>\n",
    "    </tr>\n",
    "    <tr>\n",
    "      <th>25</th>\n",
    "      <td>application_type</td>\n",
    "      <td>Indicates whether the loan is an individual application or a joint application with two co-borrowers</td>\n",
    "    </tr>\n",
    "    <tr>\n",
    "      <th>26</th>\n",
    "      <td>mort_acc</td>\n",
    "      <td>Number of mortgage accounts.</td>\n",
    "    </tr>\n",
    "    <tr>\n",
    "      <th>27</th>\n",
    "      <td>pub_rec_bankruptcies</td>\n",
    "      <td>Number of public record bankruptcies</td>\n",
    "    </tr>\n",
    "  </tbody>\n",
    "</table>\n",
    "\n",
    "---\n",
    "----"
   ]
  },
  {
   "cell_type": "markdown",
   "id": "d88e52de",
   "metadata": {},
   "source": [
    "## Starter Code\n",
    "\n",
    "#### Creating a function to quickly show the description of each column"
   ]
  },
  {
   "cell_type": "code",
   "execution_count": 1,
   "id": "2ac11b5a",
   "metadata": {},
   "outputs": [],
   "source": [
    "import pandas as pd\n",
    "\n",
    "data_info = pd.read_csv('../DATA/lending_club_info.csv',index_col='LoanStatNew')\n",
    "\n",
    "def feat_info(col_name):\n",
    "    print(data_info.loc[col_name]['Description'])"
   ]
  },
  {
   "cell_type": "markdown",
   "id": "07f5462b",
   "metadata": {},
   "source": [
    "## Loading the main dataframe and importing libraries"
   ]
  },
  {
   "cell_type": "code",
   "execution_count": 2,
   "id": "bd5ccbb8",
   "metadata": {},
   "outputs": [],
   "source": [
    "import numpy as np\n",
    "import matplotlib.pyplot as plt\n",
    "import seaborn as sns\n",
    "%matplotlib inline"
   ]
  },
  {
   "cell_type": "code",
   "execution_count": 3,
   "id": "ce0a72ef",
   "metadata": {},
   "outputs": [],
   "source": [
    "df = pd.read_csv('../DATA/lending_club_loan_two.csv')"
   ]
  },
  {
   "cell_type": "code",
   "execution_count": 4,
   "id": "40586091",
   "metadata": {},
   "outputs": [
    {
     "data": {
      "text/html": [
       "<div>\n",
       "<style scoped>\n",
       "    .dataframe tbody tr th:only-of-type {\n",
       "        vertical-align: middle;\n",
       "    }\n",
       "\n",
       "    .dataframe tbody tr th {\n",
       "        vertical-align: top;\n",
       "    }\n",
       "\n",
       "    .dataframe thead th {\n",
       "        text-align: right;\n",
       "    }\n",
       "</style>\n",
       "<table border=\"1\" class=\"dataframe\">\n",
       "  <thead>\n",
       "    <tr style=\"text-align: right;\">\n",
       "      <th></th>\n",
       "      <th>loan_amnt</th>\n",
       "      <th>term</th>\n",
       "      <th>int_rate</th>\n",
       "      <th>installment</th>\n",
       "      <th>grade</th>\n",
       "      <th>sub_grade</th>\n",
       "      <th>emp_title</th>\n",
       "      <th>emp_length</th>\n",
       "      <th>home_ownership</th>\n",
       "      <th>annual_inc</th>\n",
       "      <th>...</th>\n",
       "      <th>open_acc</th>\n",
       "      <th>pub_rec</th>\n",
       "      <th>revol_bal</th>\n",
       "      <th>revol_util</th>\n",
       "      <th>total_acc</th>\n",
       "      <th>initial_list_status</th>\n",
       "      <th>application_type</th>\n",
       "      <th>mort_acc</th>\n",
       "      <th>pub_rec_bankruptcies</th>\n",
       "      <th>address</th>\n",
       "    </tr>\n",
       "  </thead>\n",
       "  <tbody>\n",
       "    <tr>\n",
       "      <th>0</th>\n",
       "      <td>10000.0</td>\n",
       "      <td>36 months</td>\n",
       "      <td>11.44</td>\n",
       "      <td>329.48</td>\n",
       "      <td>B</td>\n",
       "      <td>B4</td>\n",
       "      <td>Marketing</td>\n",
       "      <td>10+ years</td>\n",
       "      <td>RENT</td>\n",
       "      <td>117000.0</td>\n",
       "      <td>...</td>\n",
       "      <td>16.0</td>\n",
       "      <td>0.0</td>\n",
       "      <td>36369.0</td>\n",
       "      <td>41.8</td>\n",
       "      <td>25.0</td>\n",
       "      <td>w</td>\n",
       "      <td>INDIVIDUAL</td>\n",
       "      <td>0.0</td>\n",
       "      <td>0.0</td>\n",
       "      <td>0174 Michelle Gateway\\nMendozaberg, OK 22690</td>\n",
       "    </tr>\n",
       "    <tr>\n",
       "      <th>1</th>\n",
       "      <td>8000.0</td>\n",
       "      <td>36 months</td>\n",
       "      <td>11.99</td>\n",
       "      <td>265.68</td>\n",
       "      <td>B</td>\n",
       "      <td>B5</td>\n",
       "      <td>Credit analyst</td>\n",
       "      <td>4 years</td>\n",
       "      <td>MORTGAGE</td>\n",
       "      <td>65000.0</td>\n",
       "      <td>...</td>\n",
       "      <td>17.0</td>\n",
       "      <td>0.0</td>\n",
       "      <td>20131.0</td>\n",
       "      <td>53.3</td>\n",
       "      <td>27.0</td>\n",
       "      <td>f</td>\n",
       "      <td>INDIVIDUAL</td>\n",
       "      <td>3.0</td>\n",
       "      <td>0.0</td>\n",
       "      <td>1076 Carney Fort Apt. 347\\nLoganmouth, SD 05113</td>\n",
       "    </tr>\n",
       "    <tr>\n",
       "      <th>2</th>\n",
       "      <td>15600.0</td>\n",
       "      <td>36 months</td>\n",
       "      <td>10.49</td>\n",
       "      <td>506.97</td>\n",
       "      <td>B</td>\n",
       "      <td>B3</td>\n",
       "      <td>Statistician</td>\n",
       "      <td>&lt; 1 year</td>\n",
       "      <td>RENT</td>\n",
       "      <td>43057.0</td>\n",
       "      <td>...</td>\n",
       "      <td>13.0</td>\n",
       "      <td>0.0</td>\n",
       "      <td>11987.0</td>\n",
       "      <td>92.2</td>\n",
       "      <td>26.0</td>\n",
       "      <td>f</td>\n",
       "      <td>INDIVIDUAL</td>\n",
       "      <td>0.0</td>\n",
       "      <td>0.0</td>\n",
       "      <td>87025 Mark Dale Apt. 269\\nNew Sabrina, WV 05113</td>\n",
       "    </tr>\n",
       "    <tr>\n",
       "      <th>3</th>\n",
       "      <td>7200.0</td>\n",
       "      <td>36 months</td>\n",
       "      <td>6.49</td>\n",
       "      <td>220.65</td>\n",
       "      <td>A</td>\n",
       "      <td>A2</td>\n",
       "      <td>Client Advocate</td>\n",
       "      <td>6 years</td>\n",
       "      <td>RENT</td>\n",
       "      <td>54000.0</td>\n",
       "      <td>...</td>\n",
       "      <td>6.0</td>\n",
       "      <td>0.0</td>\n",
       "      <td>5472.0</td>\n",
       "      <td>21.5</td>\n",
       "      <td>13.0</td>\n",
       "      <td>f</td>\n",
       "      <td>INDIVIDUAL</td>\n",
       "      <td>0.0</td>\n",
       "      <td>0.0</td>\n",
       "      <td>823 Reid Ford\\nDelacruzside, MA 00813</td>\n",
       "    </tr>\n",
       "    <tr>\n",
       "      <th>4</th>\n",
       "      <td>24375.0</td>\n",
       "      <td>60 months</td>\n",
       "      <td>17.27</td>\n",
       "      <td>609.33</td>\n",
       "      <td>C</td>\n",
       "      <td>C5</td>\n",
       "      <td>Destiny Management Inc.</td>\n",
       "      <td>9 years</td>\n",
       "      <td>MORTGAGE</td>\n",
       "      <td>55000.0</td>\n",
       "      <td>...</td>\n",
       "      <td>13.0</td>\n",
       "      <td>0.0</td>\n",
       "      <td>24584.0</td>\n",
       "      <td>69.8</td>\n",
       "      <td>43.0</td>\n",
       "      <td>f</td>\n",
       "      <td>INDIVIDUAL</td>\n",
       "      <td>1.0</td>\n",
       "      <td>0.0</td>\n",
       "      <td>679 Luna Roads\\nGreggshire, VA 11650</td>\n",
       "    </tr>\n",
       "  </tbody>\n",
       "</table>\n",
       "<p>5 rows × 27 columns</p>\n",
       "</div>"
      ],
      "text/plain": [
       "   loan_amnt        term  int_rate  installment grade sub_grade  \\\n",
       "0    10000.0   36 months     11.44       329.48     B        B4   \n",
       "1     8000.0   36 months     11.99       265.68     B        B5   \n",
       "2    15600.0   36 months     10.49       506.97     B        B3   \n",
       "3     7200.0   36 months      6.49       220.65     A        A2   \n",
       "4    24375.0   60 months     17.27       609.33     C        C5   \n",
       "\n",
       "                 emp_title emp_length home_ownership  annual_inc  ...  \\\n",
       "0                Marketing  10+ years           RENT    117000.0  ...   \n",
       "1          Credit analyst     4 years       MORTGAGE     65000.0  ...   \n",
       "2             Statistician   < 1 year           RENT     43057.0  ...   \n",
       "3          Client Advocate    6 years           RENT     54000.0  ...   \n",
       "4  Destiny Management Inc.    9 years       MORTGAGE     55000.0  ...   \n",
       "\n",
       "  open_acc pub_rec revol_bal revol_util total_acc  initial_list_status  \\\n",
       "0     16.0     0.0   36369.0       41.8      25.0                    w   \n",
       "1     17.0     0.0   20131.0       53.3      27.0                    f   \n",
       "2     13.0     0.0   11987.0       92.2      26.0                    f   \n",
       "3      6.0     0.0    5472.0       21.5      13.0                    f   \n",
       "4     13.0     0.0   24584.0       69.8      43.0                    f   \n",
       "\n",
       "  application_type  mort_acc  pub_rec_bankruptcies  \\\n",
       "0       INDIVIDUAL       0.0                   0.0   \n",
       "1       INDIVIDUAL       3.0                   0.0   \n",
       "2       INDIVIDUAL       0.0                   0.0   \n",
       "3       INDIVIDUAL       0.0                   0.0   \n",
       "4       INDIVIDUAL       1.0                   0.0   \n",
       "\n",
       "                                           address  \n",
       "0     0174 Michelle Gateway\\nMendozaberg, OK 22690  \n",
       "1  1076 Carney Fort Apt. 347\\nLoganmouth, SD 05113  \n",
       "2  87025 Mark Dale Apt. 269\\nNew Sabrina, WV 05113  \n",
       "3            823 Reid Ford\\nDelacruzside, MA 00813  \n",
       "4             679 Luna Roads\\nGreggshire, VA 11650  \n",
       "\n",
       "[5 rows x 27 columns]"
      ]
     },
     "execution_count": 4,
     "metadata": {},
     "output_type": "execute_result"
    }
   ],
   "source": [
    "df.head()"
   ]
  },
  {
   "cell_type": "code",
   "execution_count": 5,
   "id": "7cb2d635",
   "metadata": {},
   "outputs": [
    {
     "name": "stdout",
     "output_type": "stream",
     "text": [
      "<class 'pandas.core.frame.DataFrame'>\n",
      "RangeIndex: 396030 entries, 0 to 396029\n",
      "Data columns (total 27 columns):\n",
      " #   Column                Non-Null Count   Dtype  \n",
      "---  ------                --------------   -----  \n",
      " 0   loan_amnt             396030 non-null  float64\n",
      " 1   term                  396030 non-null  object \n",
      " 2   int_rate              396030 non-null  float64\n",
      " 3   installment           396030 non-null  float64\n",
      " 4   grade                 396030 non-null  object \n",
      " 5   sub_grade             396030 non-null  object \n",
      " 6   emp_title             373103 non-null  object \n",
      " 7   emp_length            377729 non-null  object \n",
      " 8   home_ownership        396030 non-null  object \n",
      " 9   annual_inc            396030 non-null  float64\n",
      " 10  verification_status   396030 non-null  object \n",
      " 11  issue_d               396030 non-null  object \n",
      " 12  loan_status           396030 non-null  object \n",
      " 13  purpose               396030 non-null  object \n",
      " 14  title                 394275 non-null  object \n",
      " 15  dti                   396030 non-null  float64\n",
      " 16  earliest_cr_line      396030 non-null  object \n",
      " 17  open_acc              396030 non-null  float64\n",
      " 18  pub_rec               396030 non-null  float64\n",
      " 19  revol_bal             396030 non-null  float64\n",
      " 20  revol_util            395754 non-null  float64\n",
      " 21  total_acc             396030 non-null  float64\n",
      " 22  initial_list_status   396030 non-null  object \n",
      " 23  application_type      396030 non-null  object \n",
      " 24  mort_acc              358235 non-null  float64\n",
      " 25  pub_rec_bankruptcies  395495 non-null  float64\n",
      " 26  address               396030 non-null  object \n",
      "dtypes: float64(12), object(15)\n",
      "memory usage: 81.6+ MB\n"
     ]
    }
   ],
   "source": [
    "df.info()"
   ]
  },
  {
   "cell_type": "code",
   "execution_count": 6,
   "id": "0a831019",
   "metadata": {
    "scrolled": false
   },
   "outputs": [
    {
     "data": {
      "text/html": [
       "<div>\n",
       "<style scoped>\n",
       "    .dataframe tbody tr th:only-of-type {\n",
       "        vertical-align: middle;\n",
       "    }\n",
       "\n",
       "    .dataframe tbody tr th {\n",
       "        vertical-align: top;\n",
       "    }\n",
       "\n",
       "    .dataframe thead th {\n",
       "        text-align: right;\n",
       "    }\n",
       "</style>\n",
       "<table border=\"1\" class=\"dataframe\">\n",
       "  <thead>\n",
       "    <tr style=\"text-align: right;\">\n",
       "      <th></th>\n",
       "      <th>loan_amnt</th>\n",
       "      <th>int_rate</th>\n",
       "      <th>installment</th>\n",
       "      <th>annual_inc</th>\n",
       "      <th>dti</th>\n",
       "      <th>open_acc</th>\n",
       "      <th>pub_rec</th>\n",
       "      <th>revol_bal</th>\n",
       "      <th>revol_util</th>\n",
       "      <th>total_acc</th>\n",
       "      <th>mort_acc</th>\n",
       "      <th>pub_rec_bankruptcies</th>\n",
       "    </tr>\n",
       "  </thead>\n",
       "  <tbody>\n",
       "    <tr>\n",
       "      <th>count</th>\n",
       "      <td>396030.000000</td>\n",
       "      <td>396030.000000</td>\n",
       "      <td>396030.000000</td>\n",
       "      <td>3.960300e+05</td>\n",
       "      <td>396030.000000</td>\n",
       "      <td>396030.000000</td>\n",
       "      <td>396030.000000</td>\n",
       "      <td>3.960300e+05</td>\n",
       "      <td>395754.000000</td>\n",
       "      <td>396030.000000</td>\n",
       "      <td>358235.000000</td>\n",
       "      <td>395495.000000</td>\n",
       "    </tr>\n",
       "    <tr>\n",
       "      <th>mean</th>\n",
       "      <td>14113.888089</td>\n",
       "      <td>13.639400</td>\n",
       "      <td>431.849698</td>\n",
       "      <td>7.420318e+04</td>\n",
       "      <td>17.379514</td>\n",
       "      <td>11.311153</td>\n",
       "      <td>0.178191</td>\n",
       "      <td>1.584454e+04</td>\n",
       "      <td>53.791749</td>\n",
       "      <td>25.414744</td>\n",
       "      <td>1.813991</td>\n",
       "      <td>0.121648</td>\n",
       "    </tr>\n",
       "    <tr>\n",
       "      <th>std</th>\n",
       "      <td>8357.441341</td>\n",
       "      <td>4.472157</td>\n",
       "      <td>250.727790</td>\n",
       "      <td>6.163762e+04</td>\n",
       "      <td>18.019092</td>\n",
       "      <td>5.137649</td>\n",
       "      <td>0.530671</td>\n",
       "      <td>2.059184e+04</td>\n",
       "      <td>24.452193</td>\n",
       "      <td>11.886991</td>\n",
       "      <td>2.147930</td>\n",
       "      <td>0.356174</td>\n",
       "    </tr>\n",
       "    <tr>\n",
       "      <th>min</th>\n",
       "      <td>500.000000</td>\n",
       "      <td>5.320000</td>\n",
       "      <td>16.080000</td>\n",
       "      <td>0.000000e+00</td>\n",
       "      <td>0.000000</td>\n",
       "      <td>0.000000</td>\n",
       "      <td>0.000000</td>\n",
       "      <td>0.000000e+00</td>\n",
       "      <td>0.000000</td>\n",
       "      <td>2.000000</td>\n",
       "      <td>0.000000</td>\n",
       "      <td>0.000000</td>\n",
       "    </tr>\n",
       "    <tr>\n",
       "      <th>25%</th>\n",
       "      <td>8000.000000</td>\n",
       "      <td>10.490000</td>\n",
       "      <td>250.330000</td>\n",
       "      <td>4.500000e+04</td>\n",
       "      <td>11.280000</td>\n",
       "      <td>8.000000</td>\n",
       "      <td>0.000000</td>\n",
       "      <td>6.025000e+03</td>\n",
       "      <td>35.800000</td>\n",
       "      <td>17.000000</td>\n",
       "      <td>0.000000</td>\n",
       "      <td>0.000000</td>\n",
       "    </tr>\n",
       "    <tr>\n",
       "      <th>50%</th>\n",
       "      <td>12000.000000</td>\n",
       "      <td>13.330000</td>\n",
       "      <td>375.430000</td>\n",
       "      <td>6.400000e+04</td>\n",
       "      <td>16.910000</td>\n",
       "      <td>10.000000</td>\n",
       "      <td>0.000000</td>\n",
       "      <td>1.118100e+04</td>\n",
       "      <td>54.800000</td>\n",
       "      <td>24.000000</td>\n",
       "      <td>1.000000</td>\n",
       "      <td>0.000000</td>\n",
       "    </tr>\n",
       "    <tr>\n",
       "      <th>75%</th>\n",
       "      <td>20000.000000</td>\n",
       "      <td>16.490000</td>\n",
       "      <td>567.300000</td>\n",
       "      <td>9.000000e+04</td>\n",
       "      <td>22.980000</td>\n",
       "      <td>14.000000</td>\n",
       "      <td>0.000000</td>\n",
       "      <td>1.962000e+04</td>\n",
       "      <td>72.900000</td>\n",
       "      <td>32.000000</td>\n",
       "      <td>3.000000</td>\n",
       "      <td>0.000000</td>\n",
       "    </tr>\n",
       "    <tr>\n",
       "      <th>max</th>\n",
       "      <td>40000.000000</td>\n",
       "      <td>30.990000</td>\n",
       "      <td>1533.810000</td>\n",
       "      <td>8.706582e+06</td>\n",
       "      <td>9999.000000</td>\n",
       "      <td>90.000000</td>\n",
       "      <td>86.000000</td>\n",
       "      <td>1.743266e+06</td>\n",
       "      <td>892.300000</td>\n",
       "      <td>151.000000</td>\n",
       "      <td>34.000000</td>\n",
       "      <td>8.000000</td>\n",
       "    </tr>\n",
       "  </tbody>\n",
       "</table>\n",
       "</div>"
      ],
      "text/plain": [
       "           loan_amnt       int_rate    installment    annual_inc  \\\n",
       "count  396030.000000  396030.000000  396030.000000  3.960300e+05   \n",
       "mean    14113.888089      13.639400     431.849698  7.420318e+04   \n",
       "std      8357.441341       4.472157     250.727790  6.163762e+04   \n",
       "min       500.000000       5.320000      16.080000  0.000000e+00   \n",
       "25%      8000.000000      10.490000     250.330000  4.500000e+04   \n",
       "50%     12000.000000      13.330000     375.430000  6.400000e+04   \n",
       "75%     20000.000000      16.490000     567.300000  9.000000e+04   \n",
       "max     40000.000000      30.990000    1533.810000  8.706582e+06   \n",
       "\n",
       "                 dti       open_acc        pub_rec     revol_bal  \\\n",
       "count  396030.000000  396030.000000  396030.000000  3.960300e+05   \n",
       "mean       17.379514      11.311153       0.178191  1.584454e+04   \n",
       "std        18.019092       5.137649       0.530671  2.059184e+04   \n",
       "min         0.000000       0.000000       0.000000  0.000000e+00   \n",
       "25%        11.280000       8.000000       0.000000  6.025000e+03   \n",
       "50%        16.910000      10.000000       0.000000  1.118100e+04   \n",
       "75%        22.980000      14.000000       0.000000  1.962000e+04   \n",
       "max      9999.000000      90.000000      86.000000  1.743266e+06   \n",
       "\n",
       "          revol_util      total_acc       mort_acc  pub_rec_bankruptcies  \n",
       "count  395754.000000  396030.000000  358235.000000         395495.000000  \n",
       "mean       53.791749      25.414744       1.813991              0.121648  \n",
       "std        24.452193      11.886991       2.147930              0.356174  \n",
       "min         0.000000       2.000000       0.000000              0.000000  \n",
       "25%        35.800000      17.000000       0.000000              0.000000  \n",
       "50%        54.800000      24.000000       1.000000              0.000000  \n",
       "75%        72.900000      32.000000       3.000000              0.000000  \n",
       "max       892.300000     151.000000      34.000000              8.000000  "
      ]
     },
     "execution_count": 6,
     "metadata": {},
     "output_type": "execute_result"
    }
   ],
   "source": [
    "df.describe()"
   ]
  },
  {
   "cell_type": "markdown",
   "id": "6c79ff73",
   "metadata": {},
   "source": [
    "#### Checking how many null values there are"
   ]
  },
  {
   "cell_type": "code",
   "execution_count": 7,
   "id": "a2570717",
   "metadata": {},
   "outputs": [
    {
     "data": {
      "text/plain": [
       "<AxesSubplot:>"
      ]
     },
     "execution_count": 7,
     "metadata": {},
     "output_type": "execute_result"
    },
    {
     "data": {
      "image/png": "[encoded data removed]",
      "text/plain": [
       "<Figure size 432x288 with 2 Axes>"
      ]
     },
     "metadata": {
      "needs_background": "light"
     },
     "output_type": "display_data"
    }
   ],
   "source": [
    "sns.heatmap(df.isnull())"
   ]
  },
  {
   "cell_type": "markdown",
   "id": "805aa89a",
   "metadata": {},
   "source": [
    "# Setup\n",
    "\n",
    "-----\n",
    "------\n",
    "\n",
    "# Step 1: Exploratory Data Analysis\n",
    "\n",
    "**Understand the importance of each column, visualizing, etc**\n",
    "\n",
    "\n",
    "----"
   ]
  },
  {
   "cell_type": "markdown",
   "id": "f1e80637",
   "metadata": {},
   "source": [
    "**Creating a Countplot to see the difference between the Fully Paid and Charged Off loans**"
   ]
  },
  {
   "cell_type": "code",
   "execution_count": 8,
   "id": "fd1de537",
   "metadata": {},
   "outputs": [
    {
     "data": {
      "text/plain": [
       "<AxesSubplot:xlabel='loan_status', ylabel='count'>"
      ]
     },
     "execution_count": 8,
     "metadata": {},
     "output_type": "execute_result"
    },
    {
     "data": {
      "image/png": "[encoded data removed]",
      "text/plain": [
       "<Figure size 432x288 with 1 Axes>"
      ]
     },
     "metadata": {
      "needs_background": "light"
     },
     "output_type": "display_data"
    }
   ],
   "source": [
    "sns.countplot(data = df,x = df['loan_status'])"
   ]
  },
  {
   "cell_type": "markdown",
   "id": "ff770002",
   "metadata": {},
   "source": [
    "**Histogram to see the frequency of each loan amount** (the round values like 10.000, 15.000 and 20.000 are naturally the most frequent)"
   ]
  },
  {
   "cell_type": "code",
   "execution_count": 9,
   "id": "365755f4",
   "metadata": {},
   "outputs": [
    {
     "data": {
      "text/plain": [
       "<AxesSubplot:xlabel='loan_amnt', ylabel='Count'>"
      ]
     },
     "execution_count": 9,
     "metadata": {},
     "output_type": "execute_result"
    },
    {
     "data": {
      "image/png": "[encoded data removed]",
      "text/plain": [
       "<Figure size 432x288 with 1 Axes>"
      ]
     },
     "metadata": {
      "needs_background": "light"
     },
     "output_type": "display_data"
    }
   ],
   "source": [
    "sns.histplot(x=df['loan_amnt'])"
   ]
  },
  {
   "cell_type": "markdown",
   "id": "e80a4bc4",
   "metadata": {},
   "source": [
    "**Exploring the correlation between the numerical (continuous) values through a heatmap**"
   ]
  },
  {
   "cell_type": "code",
   "execution_count": 10,
   "id": "aa8d6063",
   "metadata": {
    "scrolled": true
   },
   "outputs": [
    {
     "data": {
      "text/plain": [
       "<AxesSubplot:>"
      ]
     },
     "execution_count": 10,
     "metadata": {},
     "output_type": "execute_result"
    },
    {
     "data": {
      "image/png": "[encoded data removed]",
      "text/plain": [
       "<Figure size 864x864 with 2 Axes>"
      ]
     },
     "metadata": {
      "needs_background": "light"
     },
     "output_type": "display_data"
    }
   ],
   "source": [
    "plt.figure(figsize=(12,12))\n",
    "sns.heatmap(df.corr(),annot=True)"
   ]
  },
  {
   "cell_type": "markdown",
   "id": "14c4c235",
   "metadata": {},
   "source": [
    "**Exploring the relation between the loan amount and the installment column through a scatterplot**"
   ]
  },
  {
   "cell_type": "code",
   "execution_count": 11,
   "id": "d555f1e3",
   "metadata": {
    "scrolled": false
   },
   "outputs": [
    {
     "data": {
      "text/plain": [
       "<AxesSubplot:xlabel='loan_amnt', ylabel='installment'>"
      ]
     },
     "execution_count": 11,
     "metadata": {},
     "output_type": "execute_result"
    },
    {
     "data": {
      "image/png": "[encoded data removed]",
      "text/plain": [
       "<Figure size 864x864 with 1 Axes>"
      ]
     },
     "metadata": {
      "needs_background": "light"
     },
     "output_type": "display_data"
    }
   ],
   "source": [
    "plt.figure(figsize=(12,12))\n",
    "sns.scatterplot(x=df['loan_amnt'],y=df['installment'],alpha=0.2)"
   ]
  },
  {
   "cell_type": "markdown",
   "id": "e9908110",
   "metadata": {},
   "source": [
    "**As we can see, the installment is the monthly payment of the loan, that's why it's almost directly proportional to the loan amount, the correlation is not exactly because of the interest and the different terms (36 or 60 months)**"
   ]
  },
  {
   "cell_type": "code",
   "execution_count": 12,
   "id": "ace78850",
   "metadata": {},
   "outputs": [
    {
     "data": {
      "text/plain": [
       "0    10000.0\n",
       "1     8000.0\n",
       "2    15600.0\n",
       "3     7200.0\n",
       "4    24375.0\n",
       "Name: loan_amnt, dtype: float64"
      ]
     },
     "execution_count": 12,
     "metadata": {},
     "output_type": "execute_result"
    }
   ],
   "source": [
    "df['loan_amnt'].head() #empréstimo dado"
   ]
  },
  {
   "cell_type": "code",
   "execution_count": 13,
   "id": "c1c4424a",
   "metadata": {
    "scrolled": true
   },
   "outputs": [
    {
     "data": {
      "text/plain": [
       "0    329.48\n",
       "1    265.68\n",
       "2    506.97\n",
       "3    220.65\n",
       "4    609.33\n",
       "Name: installment, dtype: float64"
      ]
     },
     "execution_count": 13,
     "metadata": {},
     "output_type": "execute_result"
    }
   ],
   "source": [
    "df['installment'].head() #pagamento mensal"
   ]
  },
  {
   "cell_type": "markdown",
   "id": "f6a866a3",
   "metadata": {},
   "source": [
    "É normal serem proporcionais porque o pagamento mensal \n",
    "depende do valor do empréstimo e dos juros (int_rate)"
   ]
  },
  {
   "cell_type": "markdown",
   "id": "f023d75b",
   "metadata": {},
   "source": [
    "**Showing the relationship between the loan_status and the Loan Amount through a boxplot**"
   ]
  },
  {
   "cell_type": "code",
   "execution_count": 14,
   "id": "76b26e2b",
   "metadata": {},
   "outputs": [
    {
     "data": {
      "text/plain": [
       "<AxesSubplot:xlabel='loan_status', ylabel='loan_amnt'>"
      ]
     },
     "execution_count": 14,
     "metadata": {},
     "output_type": "execute_result"
    },
    {
     "data": {
      "image/png": "[encoded data removed]",
      "text/plain": [
       "<Figure size 432x288 with 1 Axes>"
      ]
     },
     "metadata": {
      "needs_background": "light"
     },
     "output_type": "display_data"
    }
   ],
   "source": [
    "sns.boxplot(x=df['loan_status'],y=df['loan_amnt'])"
   ]
  },
  {
   "cell_type": "markdown",
   "id": "983c73d6",
   "metadata": {},
   "source": [
    "**Seeing the differences of the loan amounts between Fully Paid vs Charged Off loans**"
   ]
  },
  {
   "cell_type": "code",
   "execution_count": 15,
   "id": "b03c5fc6",
   "metadata": {
    "scrolled": true
   },
   "outputs": [
    {
     "data": {
      "text/html": [
       "<div>\n",
       "<style scoped>\n",
       "    .dataframe tbody tr th:only-of-type {\n",
       "        vertical-align: middle;\n",
       "    }\n",
       "\n",
       "    .dataframe tbody tr th {\n",
       "        vertical-align: top;\n",
       "    }\n",
       "\n",
       "    .dataframe thead th {\n",
       "        text-align: right;\n",
       "    }\n",
       "</style>\n",
       "<table border=\"1\" class=\"dataframe\">\n",
       "  <thead>\n",
       "    <tr style=\"text-align: right;\">\n",
       "      <th>loan_status</th>\n",
       "      <th>Charged Off</th>\n",
       "      <th>Fully Paid</th>\n",
       "    </tr>\n",
       "  </thead>\n",
       "  <tbody>\n",
       "    <tr>\n",
       "      <th>count</th>\n",
       "      <td>77673.000000</td>\n",
       "      <td>318357.000000</td>\n",
       "    </tr>\n",
       "    <tr>\n",
       "      <th>mean</th>\n",
       "      <td>15126.300967</td>\n",
       "      <td>13866.878771</td>\n",
       "    </tr>\n",
       "    <tr>\n",
       "      <th>std</th>\n",
       "      <td>8505.090557</td>\n",
       "      <td>8302.319699</td>\n",
       "    </tr>\n",
       "    <tr>\n",
       "      <th>min</th>\n",
       "      <td>1000.000000</td>\n",
       "      <td>500.000000</td>\n",
       "    </tr>\n",
       "    <tr>\n",
       "      <th>25%</th>\n",
       "      <td>8525.000000</td>\n",
       "      <td>7500.000000</td>\n",
       "    </tr>\n",
       "    <tr>\n",
       "      <th>50%</th>\n",
       "      <td>14000.000000</td>\n",
       "      <td>12000.000000</td>\n",
       "    </tr>\n",
       "    <tr>\n",
       "      <th>75%</th>\n",
       "      <td>20000.000000</td>\n",
       "      <td>19225.000000</td>\n",
       "    </tr>\n",
       "    <tr>\n",
       "      <th>max</th>\n",
       "      <td>40000.000000</td>\n",
       "      <td>40000.000000</td>\n",
       "    </tr>\n",
       "  </tbody>\n",
       "</table>\n",
       "</div>"
      ],
      "text/plain": [
       "loan_status   Charged Off     Fully Paid\n",
       "count        77673.000000  318357.000000\n",
       "mean         15126.300967   13866.878771\n",
       "std           8505.090557    8302.319699\n",
       "min           1000.000000     500.000000\n",
       "25%           8525.000000    7500.000000\n",
       "50%          14000.000000   12000.000000\n",
       "75%          20000.000000   19225.000000\n",
       "max          40000.000000   40000.000000"
      ]
     },
     "execution_count": 15,
     "metadata": {},
     "output_type": "execute_result"
    }
   ],
   "source": [
    "df.groupby('loan_status')['loan_amnt'].describe().transpose()"
   ]
  },
  {
   "cell_type": "markdown",
   "id": "86f3acca",
   "metadata": {},
   "source": [
    "**Exploring the unique values of grade and subgrade**"
   ]
  },
  {
   "cell_type": "code",
   "execution_count": 16,
   "id": "2e7f25b1",
   "metadata": {},
   "outputs": [
    {
     "data": {
      "text/plain": [
       "B    116018\n",
       "C    105987\n",
       "A     64187\n",
       "D     63524\n",
       "E     31488\n",
       "F     11772\n",
       "G      3054\n",
       "Name: grade, dtype: int64"
      ]
     },
     "execution_count": 16,
     "metadata": {},
     "output_type": "execute_result"
    }
   ],
   "source": [
    "df['grade'].value_counts()"
   ]
  },
  {
   "cell_type": "code",
   "execution_count": 17,
   "id": "b991d145",
   "metadata": {},
   "outputs": [
    {
     "data": {
      "text/plain": [
       "B3    26655\n",
       "B4    25601\n",
       "C1    23662\n",
       "C2    22580\n",
       "B2    22495\n",
       "B5    22085\n",
       "C3    21221\n",
       "C4    20280\n",
       "B1    19182\n",
       "A5    18526\n",
       "C5    18244\n",
       "D1    15993\n",
       "A4    15789\n",
       "D2    13951\n",
       "D3    12223\n",
       "D4    11657\n",
       "A3    10576\n",
       "A1     9729\n",
       "D5     9700\n",
       "A2     9567\n",
       "E1     7917\n",
       "E2     7431\n",
       "E3     6207\n",
       "E4     5361\n",
       "E5     4572\n",
       "F1     3536\n",
       "F2     2766\n",
       "F3     2286\n",
       "F4     1787\n",
       "F5     1397\n",
       "G1     1058\n",
       "G2      754\n",
       "G3      552\n",
       "G4      374\n",
       "G5      316\n",
       "Name: sub_grade, dtype: int64"
      ]
     },
     "execution_count": 17,
     "metadata": {},
     "output_type": "execute_result"
    }
   ],
   "source": [
    "df['sub_grade'].value_counts()"
   ]
  },
  {
   "cell_type": "markdown",
   "id": "565fd1e7",
   "metadata": {},
   "source": [
    "**Countplot per grade and subgrade, separated by the loan status**"
   ]
  },
  {
   "cell_type": "code",
   "execution_count": 18,
   "id": "8692ea02",
   "metadata": {
    "scrolled": true
   },
   "outputs": [
    {
     "data": {
      "text/plain": [
       "<AxesSubplot:xlabel='grade', ylabel='count'>"
      ]
     },
     "execution_count": 18,
     "metadata": {},
     "output_type": "execute_result"
    },
    {
     "data": {
      "image/png": "[encoded data removed]",
      "text/plain": [
       "<Figure size 432x288 with 1 Axes>"
      ]
     },
     "metadata": {
      "needs_background": "light"
     },
     "output_type": "display_data"
    }
   ],
   "source": [
    "sns.countplot(x=df['grade'],hue=df['loan_status'])"
   ]
  },
  {
   "cell_type": "code",
   "execution_count": 19,
   "id": "1f271190",
   "metadata": {},
   "outputs": [
    {
     "data": {
      "text/plain": [
       "<AxesSubplot:xlabel='sub_grade', ylabel='count'>"
      ]
     },
     "execution_count": 19,
     "metadata": {},
     "output_type": "execute_result"
    },
    {
     "data": {
      "image/png": "[encoded data removed]",
      "text/plain": [
       "<Figure size 864x288 with 1 Axes>"
      ]
     },
     "metadata": {
      "needs_background": "light"
     },
     "output_type": "display_data"
    }
   ],
   "source": [
    "plt.figure(figsize=(12,4))\n",
    "subgrade_order = sorted(df['sub_grade'].unique())\n",
    "sns.countplot(x='sub_grade',data=df,order = subgrade_order,palette='coolwarm' )"
   ]
  },
  {
   "cell_type": "code",
   "execution_count": 20,
   "id": "5aad4af6",
   "metadata": {
    "scrolled": true
   },
   "outputs": [
    {
     "data": {
      "text/plain": [
       "<AxesSubplot:xlabel='sub_grade', ylabel='count'>"
      ]
     },
     "execution_count": 20,
     "metadata": {},
     "output_type": "execute_result"
    },
    {
     "data": {
      "image/png": "[encoded data removed]",
      "text/plain": [
       "<Figure size 864x288 with 1 Axes>"
      ]
     },
     "metadata": {
      "needs_background": "light"
     },
     "output_type": "display_data"
    }
   ],
   "source": [
    "plt.figure(figsize=(12,4))\n",
    "sns.countplot(x='sub_grade',data=df,order = subgrade_order,palette='coolwarm',hue=df['loan_status'])"
   ]
  },
  {
   "cell_type": "markdown",
   "id": "8eb47151",
   "metadata": {},
   "source": [
    "**\"Zooming in\" on the F and G grades on the same plots**"
   ]
  },
  {
   "cell_type": "code",
   "execution_count": 21,
   "id": "39578db6",
   "metadata": {},
   "outputs": [
    {
     "data": {
      "text/plain": [
       "<AxesSubplot:xlabel='sub_grade', ylabel='count'>"
      ]
     },
     "execution_count": 21,
     "metadata": {},
     "output_type": "execute_result"
    },
    {
     "data": {
      "image/png": "[encoded data removed]",
      "text/plain": [
       "<Figure size 864x288 with 1 Axes>"
      ]
     },
     "metadata": {
      "needs_background": "light"
     },
     "output_type": "display_data"
    }
   ],
   "source": [
    "f_and_g = df[(df['grade']=='G') | (df['grade']=='F')]\n",
    "\n",
    "plt.figure(figsize=(12,4))\n",
    "subgrade_order = sorted(f_and_g['sub_grade'].unique())\n",
    "sns.countplot(x='sub_grade',data=f_and_g,order = subgrade_order,hue='loan_status')"
   ]
  },
  {
   "cell_type": "markdown",
   "id": "1b569bfb",
   "metadata": {},
   "source": [
    "**Creating a new column called loan_repaid, a binary values column instead of the loan_status column**"
   ]
  },
  {
   "cell_type": "code",
   "execution_count": 22,
   "id": "720f6221",
   "metadata": {},
   "outputs": [],
   "source": [
    "df['loan_repaid'] = df['loan_status'].map({'Fully Paid':1,'Charged Off':0})"
   ]
  },
  {
   "cell_type": "markdown",
   "id": "b2bfcd5a",
   "metadata": {},
   "source": [
    "**Creating a sorted barplot of the correlations of loan_repaid**"
   ]
  },
  {
   "cell_type": "code",
   "execution_count": 23,
   "id": "0a69aab9",
   "metadata": {},
   "outputs": [
    {
     "data": {
      "text/plain": [
       "<AxesSubplot:>"
      ]
     },
     "execution_count": 23,
     "metadata": {},
     "output_type": "execute_result"
    },
    {
     "data": {
      "image/png": "[encoded data removed]",
      "text/plain": [
       "<Figure size 432x288 with 1 Axes>"
      ]
     },
     "metadata": {
      "needs_background": "light"
     },
     "output_type": "display_data"
    }
   ],
   "source": [
    "df.corr()['loan_repaid'].sort_values().drop('loan_repaid').plot(kind='bar')"
   ]
  },
  {
   "cell_type": "markdown",
   "id": "12b3fbf3",
   "metadata": {},
   "source": [
    "---\n",
    "---\n",
    "# Step 2: Data PreProcessing\n",
    "\n",
    "**Section Goals: Remove or fill any missing data. Remove unnecessary or repetitive features. Convert categorical string features to dummy variables.**\n",
    "\n"
   ]
  },
  {
   "cell_type": "markdown",
   "id": "d0e56d37",
   "metadata": {},
   "source": [
    "# Missing Data\n",
    "\n",
    "**Let's explore this missing data columns.** \n",
    "\n",
    "**We use a variety of factors to decide whether or not they would be useful to see if we should keep, discard, or fill in the missing data.**"
   ]
  },
  {
   "cell_type": "markdown",
   "id": "27cc5723",
   "metadata": {},
   "source": [
    "**A for loop to analyze each column**"
   ]
  },
  {
   "cell_type": "code",
   "execution_count": 24,
   "id": "f501db0b",
   "metadata": {},
   "outputs": [
    {
     "name": "stdout",
     "output_type": "stream",
     "text": [
      "loan_amnt\n",
      "10000.0    27668\n",
      "12000.0    21366\n",
      "15000.0    19903\n",
      "20000.0    18969\n",
      "35000.0    14576\n",
      "           ...  \n",
      "36225.0        1\n",
      "950.0          1\n",
      "37800.0        1\n",
      "30050.0        1\n",
      "725.0          1\n",
      "Name: loan_amnt, Length: 1397, dtype: int64\n",
      "\n",
      "\n",
      "\n",
      "\n",
      "term\n",
      " 36 months    302005\n",
      " 60 months     94025\n",
      "Name: term, dtype: int64\n",
      "\n",
      "\n",
      "\n",
      "\n",
      "int_rate\n",
      "10.99    12411\n",
      "12.99     9632\n",
      "15.61     9350\n",
      "11.99     8582\n",
      "8.90      8019\n",
      "         ...  \n",
      "14.28        1\n",
      "18.72        1\n",
      "18.36        1\n",
      "30.84        1\n",
      "24.59        1\n",
      "Name: int_rate, Length: 566, dtype: int64\n",
      "\n",
      "\n",
      "\n",
      "\n",
      "installment\n",
      "327.34     968\n",
      "332.10     791\n",
      "491.01     736\n",
      "336.90     686\n",
      "392.81     683\n",
      "          ... \n",
      "364.37       1\n",
      "1015.29      1\n",
      "398.04       1\n",
      "544.94       1\n",
      "572.44       1\n",
      "Name: installment, Length: 55706, dtype: int64\n",
      "\n",
      "\n",
      "\n",
      "\n",
      "grade\n",
      "B    116018\n",
      "C    105987\n",
      "A     64187\n",
      "D     63524\n",
      "E     31488\n",
      "F     11772\n",
      "G      3054\n",
      "Name: grade, dtype: int64\n",
      "\n",
      "\n",
      "\n",
      "\n",
      "sub_grade\n",
      "B3    26655\n",
      "B4    25601\n",
      "C1    23662\n",
      "C2    22580\n",
      "B2    22495\n",
      "B5    22085\n",
      "C3    21221\n",
      "C4    20280\n",
      "B1    19182\n",
      "A5    18526\n",
      "C5    18244\n",
      "D1    15993\n",
      "A4    15789\n",
      "D2    13951\n",
      "D3    12223\n",
      "D4    11657\n",
      "A3    10576\n",
      "A1     9729\n",
      "D5     9700\n",
      "A2     9567\n",
      "E1     7917\n",
      "E2     7431\n",
      "E3     6207\n",
      "E4     5361\n",
      "E5     4572\n",
      "F1     3536\n",
      "F2     2766\n",
      "F3     2286\n",
      "F4     1787\n",
      "F5     1397\n",
      "G1     1058\n",
      "G2      754\n",
      "G3      552\n",
      "G4      374\n",
      "G5      316\n",
      "Name: sub_grade, dtype: int64\n",
      "\n",
      "\n",
      "\n",
      "\n",
      "emp_title\n",
      "Teacher                    4389\n",
      "Manager                    4250\n",
      "Registered Nurse           1856\n",
      "RN                         1846\n",
      "Supervisor                 1830\n",
      "                           ... \n",
      "Postman                       1\n",
      "McCarthy & Holthus, LLC       1\n",
      "jp flooring                   1\n",
      "Histology Technologist        1\n",
      "Gracon Services, Inc          1\n",
      "Name: emp_title, Length: 173105, dtype: int64\n",
      "\n",
      "\n",
      "\n",
      "\n",
      "emp_length\n",
      "10+ years    126041\n",
      "2 years       35827\n",
      "< 1 year      31725\n",
      "3 years       31665\n",
      "5 years       26495\n",
      "1 year        25882\n",
      "4 years       23952\n",
      "6 years       20841\n",
      "7 years       20819\n",
      "8 years       19168\n",
      "9 years       15314\n",
      "Name: emp_length, dtype: int64\n",
      "\n",
      "\n",
      "\n",
      "\n",
      "home_ownership\n",
      "MORTGAGE    198348\n",
      "RENT        159790\n",
      "OWN          37746\n",
      "OTHER          112\n",
      "NONE            31\n",
      "ANY              3\n",
      "Name: home_ownership, dtype: int64\n",
      "\n",
      "\n",
      "\n",
      "\n",
      "annual_inc\n",
      "60000.00    15313\n",
      "50000.00    13303\n",
      "65000.00    11333\n",
      "70000.00    10674\n",
      "40000.00    10629\n",
      "            ...  \n",
      "72179.00        1\n",
      "50416.00        1\n",
      "46820.80        1\n",
      "10368.00        1\n",
      "31789.88        1\n",
      "Name: annual_inc, Length: 27197, dtype: int64\n",
      "\n",
      "\n",
      "\n",
      "\n",
      "verification_status\n",
      "Verified           139563\n",
      "Source Verified    131385\n",
      "Not Verified       125082\n",
      "Name: verification_status, dtype: int64\n",
      "\n",
      "\n",
      "\n",
      "\n",
      "issue_d\n",
      "Oct-2014    14846\n",
      "Jul-2014    12609\n",
      "Jan-2015    11705\n",
      "Dec-2013    10618\n",
      "Nov-2013    10496\n",
      "            ...  \n",
      "Jul-2007       26\n",
      "Sep-2008       25\n",
      "Nov-2007       22\n",
      "Sep-2007       15\n",
      "Jun-2007        1\n",
      "Name: issue_d, Length: 115, dtype: int64\n",
      "\n",
      "\n",
      "\n",
      "\n",
      "loan_status\n",
      "Fully Paid     318357\n",
      "Charged Off     77673\n",
      "Name: loan_status, dtype: int64\n",
      "\n",
      "\n",
      "\n",
      "\n",
      "purpose\n",
      "debt_consolidation    234507\n",
      "credit_card            83019\n",
      "home_improvement       24030\n",
      "other                  21185\n",
      "major_purchase          8790\n",
      "small_business          5701\n",
      "car                     4697\n",
      "medical                 4196\n",
      "moving                  2854\n",
      "vacation                2452\n",
      "house                   2201\n",
      "wedding                 1812\n",
      "renewable_energy         329\n",
      "educational              257\n",
      "Name: purpose, dtype: int64\n",
      "\n",
      "\n",
      "\n",
      "\n",
      "title\n",
      "Debt consolidation            152472\n",
      "Credit card refinancing        51487\n",
      "Home improvement               15264\n",
      "Other                          12930\n",
      "Debt Consolidation             11608\n",
      "                               ...  \n",
      "Graduation/Travel Expenses         1\n",
      "Daughter's Wedding Bill            1\n",
      "gotta move                         1\n",
      "creditcardrefi                     1\n",
      "Toxic Debt Payoff                  1\n",
      "Name: title, Length: 48817, dtype: int64\n",
      "\n",
      "\n",
      "\n",
      "\n",
      "dti\n",
      "0.00     313\n",
      "14.40    310\n",
      "19.20    302\n",
      "16.80    301\n",
      "18.00    300\n",
      "        ... \n",
      "59.18      1\n",
      "48.37      1\n",
      "45.71      1\n",
      "42.38      1\n",
      "55.53      1\n",
      "Name: dti, Length: 4262, dtype: int64\n",
      "\n",
      "\n",
      "\n",
      "\n",
      "earliest_cr_line\n",
      "Oct-2000    3017\n",
      "Aug-2000    2935\n",
      "Oct-2001    2896\n",
      "Aug-2001    2884\n",
      "Nov-2000    2736\n",
      "            ... \n",
      "Jul-1958       1\n",
      "Nov-1957       1\n",
      "Jan-1953       1\n",
      "Jul-1955       1\n",
      "Aug-1959       1\n",
      "Name: earliest_cr_line, Length: 684, dtype: int64\n",
      "\n",
      "\n",
      "\n",
      "\n",
      "open_acc\n",
      "9.0     36779\n",
      "10.0    35441\n",
      "8.0     35137\n",
      "11.0    32695\n",
      "7.0     31328\n",
      "        ...  \n",
      "55.0        2\n",
      "76.0        2\n",
      "58.0        1\n",
      "57.0        1\n",
      "90.0        1\n",
      "Name: open_acc, Length: 61, dtype: int64\n",
      "\n",
      "\n",
      "\n",
      "\n",
      "pub_rec\n",
      "0.0     338272\n",
      "1.0      49739\n",
      "2.0       5476\n",
      "3.0       1521\n",
      "4.0        527\n",
      "5.0        237\n",
      "6.0        122\n",
      "7.0         56\n",
      "8.0         34\n",
      "9.0         12\n",
      "10.0        11\n",
      "11.0         8\n",
      "13.0         4\n",
      "12.0         4\n",
      "19.0         2\n",
      "40.0         1\n",
      "17.0         1\n",
      "86.0         1\n",
      "24.0         1\n",
      "15.0         1\n",
      "Name: pub_rec, dtype: int64\n",
      "\n",
      "\n",
      "\n",
      "\n",
      "revol_bal\n",
      "0.0         2128\n",
      "5655.0        41\n",
      "6095.0        38\n",
      "7792.0        38\n",
      "3953.0        37\n",
      "            ... \n",
      "42573.0        1\n",
      "72966.0        1\n",
      "105342.0       1\n",
      "37076.0        1\n",
      "29244.0        1\n",
      "Name: revol_bal, Length: 55622, dtype: int64\n",
      "\n",
      "\n",
      "\n",
      "\n",
      "revol_util\n",
      "0.00      2213\n",
      "53.00      752\n",
      "60.00      739\n",
      "61.00      734\n",
      "55.00      730\n",
      "          ... \n",
      "892.30       1\n",
      "110.10       1\n",
      "123.00       1\n",
      "49.63        1\n",
      "128.10       1\n",
      "Name: revol_util, Length: 1226, dtype: int64\n",
      "\n",
      "\n",
      "\n",
      "\n",
      "total_acc\n",
      "21.0     14280\n",
      "22.0     14260\n",
      "20.0     14228\n",
      "23.0     13923\n",
      "24.0     13878\n",
      "         ...  \n",
      "110.0        1\n",
      "129.0        1\n",
      "135.0        1\n",
      "104.0        1\n",
      "103.0        1\n",
      "Name: total_acc, Length: 118, dtype: int64\n",
      "\n",
      "\n",
      "\n",
      "\n",
      "initial_list_status\n",
      "f    238066\n",
      "w    157964\n",
      "Name: initial_list_status, dtype: int64\n",
      "\n",
      "\n",
      "\n",
      "\n",
      "application_type\n",
      "INDIVIDUAL    395319\n",
      "JOINT            425\n",
      "DIRECT_PAY       286\n",
      "Name: application_type, dtype: int64\n",
      "\n",
      "\n",
      "\n",
      "\n",
      "mort_acc\n",
      "0.0     139777\n",
      "1.0      60416\n",
      "2.0      49948\n",
      "3.0      38049\n",
      "4.0      27887\n",
      "5.0      18194\n",
      "6.0      11069\n",
      "7.0       6052\n",
      "8.0       3121\n",
      "9.0       1656\n",
      "10.0       865\n",
      "11.0       479\n",
      "12.0       264\n",
      "13.0       146\n",
      "14.0       107\n",
      "15.0        61\n",
      "16.0        37\n",
      "17.0        22\n",
      "18.0        18\n",
      "19.0        15\n",
      "20.0        13\n",
      "24.0        10\n",
      "22.0         7\n",
      "21.0         4\n",
      "25.0         4\n",
      "27.0         3\n",
      "32.0         2\n",
      "31.0         2\n",
      "23.0         2\n",
      "26.0         2\n",
      "28.0         1\n",
      "30.0         1\n",
      "34.0         1\n",
      "Name: mort_acc, dtype: int64\n",
      "\n",
      "\n",
      "\n",
      "\n",
      "pub_rec_bankruptcies\n",
      "0.0    350380\n",
      "1.0     42790\n",
      "2.0      1847\n",
      "3.0       351\n",
      "4.0        82\n",
      "5.0        32\n",
      "6.0         7\n",
      "7.0         4\n",
      "8.0         2\n",
      "Name: pub_rec_bankruptcies, dtype: int64\n",
      "\n",
      "\n",
      "\n",
      "\n",
      "address\n",
      "USCGC Smith\\nFPO AE 70466                           8\n",
      "USS Johnson\\nFPO AE 48052                           8\n",
      "USNS Johnson\\nFPO AE 05113                          8\n",
      "USS Smith\\nFPO AP 70466                             8\n",
      "USNS Johnson\\nFPO AP 48052                          7\n",
      "                                                   ..\n",
      "455 Tricia Cove\\nAustinbury, FL 00813               1\n",
      "7776 Flores Fall\\nFernandezshire, UT 05113          1\n",
      "6577 Mia Harbors Apt. 171\\nRobertshire, OK 22690    1\n",
      "8141 Cox Greens Suite 186\\nMadisonstad, VT 05113    1\n",
      "787 Michelle Causeway\\nBriannaton, AR 48052         1\n",
      "Name: address, Length: 393700, dtype: int64\n",
      "\n",
      "\n",
      "\n",
      "\n",
      "loan_repaid\n",
      "1    318357\n",
      "0     77673\n",
      "Name: loan_repaid, dtype: int64\n",
      "\n",
      "\n",
      "\n",
      "\n"
     ]
    }
   ],
   "source": [
    "for i in df.columns:\n",
    "    print(i)\n",
    "    print(df[i].value_counts())\n",
    "    print('\\n')\n",
    "    print('\\n')"
   ]
  },
  {
   "cell_type": "markdown",
   "id": "851a1a43",
   "metadata": {},
   "source": [
    "**Length of the dataframe**"
   ]
  },
  {
   "cell_type": "code",
   "execution_count": 25,
   "id": "8d9b462a",
   "metadata": {},
   "outputs": [
    {
     "data": {
      "text/plain": [
       "396030"
      ]
     },
     "execution_count": 25,
     "metadata": {},
     "output_type": "execute_result"
    }
   ],
   "source": [
    "len(df)"
   ]
  },
  {
   "cell_type": "markdown",
   "id": "772ff3f9",
   "metadata": {},
   "source": [
    "**Creating a Series of the number of missing values in each column**"
   ]
  },
  {
   "cell_type": "code",
   "execution_count": 26,
   "id": "283722bd",
   "metadata": {
    "scrolled": true
   },
   "outputs": [
    {
     "data": {
      "text/plain": [
       "loan_amnt                   0\n",
       "term                        0\n",
       "int_rate                    0\n",
       "installment                 0\n",
       "grade                       0\n",
       "sub_grade                   0\n",
       "emp_title               22927\n",
       "emp_length              18301\n",
       "home_ownership              0\n",
       "annual_inc                  0\n",
       "verification_status         0\n",
       "issue_d                     0\n",
       "loan_status                 0\n",
       "purpose                     0\n",
       "title                    1755\n",
       "dti                         0\n",
       "earliest_cr_line            0\n",
       "open_acc                    0\n",
       "pub_rec                     0\n",
       "revol_bal                   0\n",
       "revol_util                276\n",
       "total_acc                   0\n",
       "initial_list_status         0\n",
       "application_type            0\n",
       "mort_acc                37795\n",
       "pub_rec_bankruptcies      535\n",
       "address                     0\n",
       "loan_repaid                 0\n",
       "dtype: int64"
      ]
     },
     "execution_count": 26,
     "metadata": {},
     "output_type": "execute_result"
    }
   ],
   "source": [
    "df.isnull().sum()"
   ]
  },
  {
   "cell_type": "markdown",
   "id": "8793bdf6",
   "metadata": {},
   "source": [
    "**Converting the Series into a percentage for better understanding**"
   ]
  },
  {
   "cell_type": "code",
   "execution_count": 27,
   "id": "e112a159",
   "metadata": {},
   "outputs": [
    {
     "data": {
      "text/plain": [
       "loan_amnt               0.000000\n",
       "term                    0.000000\n",
       "int_rate                0.000000\n",
       "installment             0.000000\n",
       "grade                   0.000000\n",
       "sub_grade               0.000000\n",
       "emp_title               5.789208\n",
       "emp_length              4.621115\n",
       "home_ownership          0.000000\n",
       "annual_inc              0.000000\n",
       "verification_status     0.000000\n",
       "issue_d                 0.000000\n",
       "loan_status             0.000000\n",
       "purpose                 0.000000\n",
       "title                   0.443148\n",
       "dti                     0.000000\n",
       "earliest_cr_line        0.000000\n",
       "open_acc                0.000000\n",
       "pub_rec                 0.000000\n",
       "revol_bal               0.000000\n",
       "revol_util              0.069692\n",
       "total_acc               0.000000\n",
       "initial_list_status     0.000000\n",
       "application_type        0.000000\n",
       "mort_acc                9.543469\n",
       "pub_rec_bankruptcies    0.135091\n",
       "address                 0.000000\n",
       "loan_repaid             0.000000\n",
       "dtype: float64"
      ]
     },
     "execution_count": 27,
     "metadata": {},
     "output_type": "execute_result"
    }
   ],
   "source": [
    "100*(df.isnull().sum()/len(df))"
   ]
  },
  {
   "cell_type": "markdown",
   "id": "0bc32bb7",
   "metadata": {},
   "source": [
    "**Examining the job titles (emp_title) and the employment lenght (emp_length)**"
   ]
  },
  {
   "cell_type": "code",
   "execution_count": 28,
   "id": "d6b0e58a",
   "metadata": {},
   "outputs": [
    {
     "name": "stdout",
     "output_type": "stream",
     "text": [
      "The job title supplied by the Borrower when applying for the loan.*\n"
     ]
    }
   ],
   "source": [
    "feat_info('emp_title')"
   ]
  },
  {
   "cell_type": "code",
   "execution_count": 29,
   "id": "e35c2868",
   "metadata": {},
   "outputs": [
    {
     "name": "stdout",
     "output_type": "stream",
     "text": [
      "Employment length in years. Possible values are between 0 and 10 where 0 means less than one year and 10 means ten or more years. \n"
     ]
    }
   ],
   "source": [
    "feat_info('emp_length')"
   ]
  },
  {
   "cell_type": "markdown",
   "id": "a0c7befc",
   "metadata": {},
   "source": [
    "**Number of unique job titles, clearly not convenient to do dummy variables**"
   ]
  },
  {
   "cell_type": "code",
   "execution_count": 30,
   "id": "ebc6e203",
   "metadata": {},
   "outputs": [
    {
     "data": {
      "text/plain": [
       "173105"
      ]
     },
     "execution_count": 30,
     "metadata": {},
     "output_type": "execute_result"
    }
   ],
   "source": [
    "df['emp_title'].nunique()"
   ]
  },
  {
   "cell_type": "markdown",
   "id": "b01761c0",
   "metadata": {},
   "source": [
    "**There are way too many unique job titles, with little correlation to the loan repayment, we should just drop that column**"
   ]
  },
  {
   "cell_type": "code",
   "execution_count": 31,
   "id": "770873ba",
   "metadata": {},
   "outputs": [],
   "source": [
    "df.drop(['emp_title'], axis = 1, inplace = True) "
   ]
  },
  {
   "cell_type": "markdown",
   "id": "163981a8",
   "metadata": {},
   "source": [
    "**Creating an ordered countplot of all the employment length values**"
   ]
  },
  {
   "cell_type": "code",
   "execution_count": 32,
   "id": "aa2429ac",
   "metadata": {},
   "outputs": [
    {
     "data": {
      "text/plain": [
       "<AxesSubplot:xlabel='emp_length', ylabel='count'>"
      ]
     },
     "execution_count": 32,
     "metadata": {},
     "output_type": "execute_result"
    },
    {
     "data": {
      "image/png": "[encoded data removed]",
      "text/plain": [
       "<Figure size 864x576 with 1 Axes>"
      ]
     },
     "metadata": {
      "needs_background": "light"
     },
     "output_type": "display_data"
    }
   ],
   "source": [
    "plt.figure(figsize=(12,8))\n",
    "sns.countplot(x=df['emp_length'])"
   ]
  },
  {
   "cell_type": "code",
   "execution_count": 33,
   "id": "4351181f",
   "metadata": {},
   "outputs": [
    {
     "data": {
      "text/plain": [
       "['1 year',\n",
       " '10+ years',\n",
       " '2 years',\n",
       " '3 years',\n",
       " '4 years',\n",
       " '5 years',\n",
       " '6 years',\n",
       " '7 years',\n",
       " '8 years',\n",
       " '9 years',\n",
       " '< 1 year']"
      ]
     },
     "execution_count": 33,
     "metadata": {},
     "output_type": "execute_result"
    }
   ],
   "source": [
    "sorted(df['emp_length'].dropna().unique())"
   ]
  },
  {
   "cell_type": "code",
   "execution_count": 34,
   "id": "cb3a7250",
   "metadata": {},
   "outputs": [],
   "source": [
    "#custom order, since the above order wasn't right\n",
    "\n",
    "emp_length_order = ['< 1 year',\n",
    "                    '1 year',\n",
    "                    '2 years',\n",
    "                    '3 years',\n",
    "                    '4 years',\n",
    "                    '5 years',\n",
    "                    '6 years',\n",
    "                    '7 years',\n",
    "                    '8 years',\n",
    "                    '9 years',\n",
    "                    '10+ years']"
   ]
  },
  {
   "cell_type": "code",
   "execution_count": 35,
   "id": "7f9954a4",
   "metadata": {},
   "outputs": [
    {
     "data": {
      "text/plain": [
       "<AxesSubplot:xlabel='emp_length', ylabel='count'>"
      ]
     },
     "execution_count": 35,
     "metadata": {},
     "output_type": "execute_result"
    },
    {
     "data": {
      "image/png": "[encoded data removed]",
      "text/plain": [
       "<Figure size 864x432 with 1 Axes>"
      ]
     },
     "metadata": {
      "needs_background": "light"
     },
     "output_type": "display_data"
    }
   ],
   "source": [
    "plt.figure(figsize=(12,6))\n",
    "sns.countplot(x=df['emp_length'],order=emp_length_order)"
   ]
  },
  {
   "cell_type": "markdown",
   "id": "e732cc9e",
   "metadata": {},
   "source": [
    "**The same countplot but separating by whether the loan was paid off or not**"
   ]
  },
  {
   "cell_type": "code",
   "execution_count": 36,
   "id": "b702a835",
   "metadata": {},
   "outputs": [
    {
     "data": {
      "text/plain": [
       "<AxesSubplot:xlabel='emp_length', ylabel='count'>"
      ]
     },
     "execution_count": 36,
     "metadata": {},
     "output_type": "execute_result"
    },
    {
     "data": {
      "image/png": "[encoded data removed]",
      "text/plain": [
       "<Figure size 864x432 with 1 Axes>"
      ]
     },
     "metadata": {
      "needs_background": "light"
     },
     "output_type": "display_data"
    }
   ],
   "source": [
    "plt.figure(figsize=(12,6))\n",
    "sns.countplot(x=df['emp_length'],order=emp_length_order,hue=df['loan_repaid'])"
   ]
  },
  {
   "cell_type": "markdown",
   "id": "4dc1b006",
   "metadata": {},
   "source": [
    "**Just with these visualizations we can't really understand if there is a correlation between the employment length and whether the loan was fully paid off or not, let's turn these values into percentages.**"
   ]
  },
  {
   "cell_type": "code",
   "execution_count": 37,
   "id": "4ae4b20d",
   "metadata": {},
   "outputs": [],
   "source": [
    "emp_co = df[df['loan_status']==\"Charged Off\"].groupby(\"emp_length\").count()['loan_status']"
   ]
  },
  {
   "cell_type": "code",
   "execution_count": 38,
   "id": "635803ce",
   "metadata": {},
   "outputs": [],
   "source": [
    "emp_fp = df[df['loan_status']==\"Fully Paid\"].groupby(\"emp_length\").count()['loan_status']"
   ]
  },
  {
   "cell_type": "code",
   "execution_count": 183,
   "id": "e36ecd64",
   "metadata": {},
   "outputs": [],
   "source": [
    "emp_per = emp_co/(emp_fp+emp_co)"
   ]
  },
  {
   "cell_type": "code",
   "execution_count": 184,
   "id": "d2478ae6",
   "metadata": {},
   "outputs": [
    {
     "data": {
      "text/plain": [
       "emp_length\n",
       "1 year       0.199135\n",
       "10+ years    0.184186\n",
       "2 years      0.193262\n",
       "3 years      0.195231\n",
       "4 years      0.192385\n",
       "5 years      0.192187\n",
       "6 years      0.189194\n",
       "7 years      0.194774\n",
       "8 years      0.199760\n",
       "9 years      0.200470\n",
       "< 1 year     0.206872\n",
       "Name: loan_status, dtype: float64"
      ]
     },
     "execution_count": 184,
     "metadata": {},
     "output_type": "execute_result"
    }
   ],
   "source": [
    "emp_per"
   ]
  },
  {
   "cell_type": "code",
   "execution_count": 185,
   "id": "1ce8812c",
   "metadata": {},
   "outputs": [
    {
     "data": {
      "text/plain": [
       "<AxesSubplot:xlabel='emp_length'>"
      ]
     },
     "execution_count": 185,
     "metadata": {},
     "output_type": "execute_result"
    },
    {
     "data": {
      "image/png": "[encoded data removed]",
      "text/plain": [
       "<Figure size 432x288 with 1 Axes>"
      ]
     },
     "metadata": {
      "needs_background": "light"
     },
     "output_type": "display_data"
    }
   ],
   "source": [
    "emp_per.plot(kind='bar')"
   ]
  },
  {
   "cell_type": "markdown",
   "id": "2a3a27f2",
   "metadata": {},
   "source": [
    "**Since they are all extremely similar, we can just drop this column**"
   ]
  },
  {
   "cell_type": "code",
   "execution_count": 42,
   "id": "2891362f",
   "metadata": {},
   "outputs": [],
   "source": [
    "df.drop(['emp_length'],axis=1,inplace=True)"
   ]
  },
  {
   "cell_type": "markdown",
   "id": "e08e7db1",
   "metadata": {},
   "source": [
    "**Let's see which columns still have missing values**"
   ]
  },
  {
   "cell_type": "code",
   "execution_count": 43,
   "id": "c7252f25",
   "metadata": {},
   "outputs": [
    {
     "data": {
      "text/plain": [
       "loan_amnt               0.000000\n",
       "term                    0.000000\n",
       "int_rate                0.000000\n",
       "installment             0.000000\n",
       "grade                   0.000000\n",
       "sub_grade               0.000000\n",
       "home_ownership          0.000000\n",
       "annual_inc              0.000000\n",
       "verification_status     0.000000\n",
       "issue_d                 0.000000\n",
       "loan_status             0.000000\n",
       "purpose                 0.000000\n",
       "title                   0.443148\n",
       "dti                     0.000000\n",
       "earliest_cr_line        0.000000\n",
       "open_acc                0.000000\n",
       "pub_rec                 0.000000\n",
       "revol_bal               0.000000\n",
       "revol_util              0.069692\n",
       "total_acc               0.000000\n",
       "initial_list_status     0.000000\n",
       "application_type        0.000000\n",
       "mort_acc                9.543469\n",
       "pub_rec_bankruptcies    0.135091\n",
       "address                 0.000000\n",
       "loan_repaid             0.000000\n",
       "dtype: float64"
      ]
     },
     "execution_count": 43,
     "metadata": {},
     "output_type": "execute_result"
    }
   ],
   "source": [
    "100*(df.isnull().sum()/len(df))"
   ]
  },
  {
   "cell_type": "code",
   "execution_count": 44,
   "id": "7445390c",
   "metadata": {},
   "outputs": [
    {
     "name": "stdout",
     "output_type": "stream",
     "text": [
      "<class 'pandas.core.frame.DataFrame'>\n",
      "RangeIndex: 396030 entries, 0 to 396029\n",
      "Data columns (total 26 columns):\n",
      " #   Column                Non-Null Count   Dtype  \n",
      "---  ------                --------------   -----  \n",
      " 0   loan_amnt             396030 non-null  float64\n",
      " 1   term                  396030 non-null  object \n",
      " 2   int_rate              396030 non-null  float64\n",
      " 3   installment           396030 non-null  float64\n",
      " 4   grade                 396030 non-null  object \n",
      " 5   sub_grade             396030 non-null  object \n",
      " 6   home_ownership        396030 non-null  object \n",
      " 7   annual_inc            396030 non-null  float64\n",
      " 8   verification_status   396030 non-null  object \n",
      " 9   issue_d               396030 non-null  object \n",
      " 10  loan_status           396030 non-null  object \n",
      " 11  purpose               396030 non-null  object \n",
      " 12  title                 394275 non-null  object \n",
      " 13  dti                   396030 non-null  float64\n",
      " 14  earliest_cr_line      396030 non-null  object \n",
      " 15  open_acc              396030 non-null  float64\n",
      " 16  pub_rec               396030 non-null  float64\n",
      " 17  revol_bal             396030 non-null  float64\n",
      " 18  revol_util            395754 non-null  float64\n",
      " 19  total_acc             396030 non-null  float64\n",
      " 20  initial_list_status   396030 non-null  object \n",
      " 21  application_type      396030 non-null  object \n",
      " 22  mort_acc              358235 non-null  float64\n",
      " 23  pub_rec_bankruptcies  395495 non-null  float64\n",
      " 24  address               396030 non-null  object \n",
      " 25  loan_repaid           396030 non-null  int64  \n",
      "dtypes: float64(12), int64(1), object(13)\n",
      "memory usage: 78.6+ MB\n"
     ]
    }
   ],
   "source": [
    "df.info()"
   ]
  },
  {
   "cell_type": "markdown",
   "id": "ed1dd6b2",
   "metadata": {},
   "source": [
    "**Let's review the title column vs the purpose column. Is this repeated information?**"
   ]
  },
  {
   "cell_type": "code",
   "execution_count": 45,
   "id": "87b425fe",
   "metadata": {
    "scrolled": false
   },
   "outputs": [
    {
     "data": {
      "text/plain": [
       "0                   vacation\n",
       "1         debt_consolidation\n",
       "2                credit_card\n",
       "3                credit_card\n",
       "4                credit_card\n",
       "                 ...        \n",
       "396025    debt_consolidation\n",
       "396026    debt_consolidation\n",
       "396027    debt_consolidation\n",
       "396028    debt_consolidation\n",
       "396029    debt_consolidation\n",
       "Name: purpose, Length: 396030, dtype: object"
      ]
     },
     "execution_count": 45,
     "metadata": {},
     "output_type": "execute_result"
    }
   ],
   "source": [
    "df['purpose']"
   ]
  },
  {
   "cell_type": "code",
   "execution_count": 46,
   "id": "f0ab00de",
   "metadata": {},
   "outputs": [
    {
     "data": {
      "text/plain": [
       "0                        Vacation\n",
       "1              Debt consolidation\n",
       "2         Credit card refinancing\n",
       "3         Credit card refinancing\n",
       "4           Credit Card Refinance\n",
       "                   ...           \n",
       "396025         Debt consolidation\n",
       "396026         Debt consolidation\n",
       "396027       pay off credit cards\n",
       "396028              Loanforpayoff\n",
       "396029          Toxic Debt Payoff\n",
       "Name: title, Length: 396030, dtype: object"
      ]
     },
     "execution_count": 46,
     "metadata": {},
     "output_type": "execute_result"
    }
   ],
   "source": [
    "df['title']"
   ]
  },
  {
   "cell_type": "code",
   "execution_count": 47,
   "id": "e8662f5b",
   "metadata": {
    "scrolled": true
   },
   "outputs": [
    {
     "data": {
      "text/plain": [
       "0"
      ]
     },
     "execution_count": 47,
     "metadata": {},
     "output_type": "execute_result"
    }
   ],
   "source": [
    "df['purpose'].isnull().sum() #purpose não tem null values"
   ]
  },
  {
   "cell_type": "code",
   "execution_count": 48,
   "id": "00ff160c",
   "metadata": {},
   "outputs": [
    {
     "data": {
      "text/plain": [
       "1755"
      ]
     },
     "execution_count": 48,
     "metadata": {},
     "output_type": "execute_result"
    }
   ],
   "source": [
    "df['title'].isnull().sum()"
   ]
  },
  {
   "cell_type": "markdown",
   "id": "184ac7a5",
   "metadata": {},
   "source": [
    "**Since they are \"the same\", let's drop title because it has missing values**"
   ]
  },
  {
   "cell_type": "code",
   "execution_count": 49,
   "id": "f40acfa1",
   "metadata": {},
   "outputs": [],
   "source": [
    "df.drop(['title'],axis=1,inplace=True)"
   ]
  },
  {
   "cell_type": "markdown",
   "id": "a34f6e96",
   "metadata": {},
   "source": [
    "**What does mort_acc represent?**"
   ]
  },
  {
   "cell_type": "code",
   "execution_count": 50,
   "id": "4b792bdf",
   "metadata": {},
   "outputs": [
    {
     "name": "stdout",
     "output_type": "stream",
     "text": [
      "Number of mortgage accounts.\n"
     ]
    }
   ],
   "source": [
    "feat_info('mort_acc')"
   ]
  },
  {
   "cell_type": "markdown",
   "id": "048b7a36",
   "metadata": {},
   "source": [
    "**Creating a value_counts of the mort_acc column.**"
   ]
  },
  {
   "cell_type": "code",
   "execution_count": 51,
   "id": "f2f68f16",
   "metadata": {},
   "outputs": [
    {
     "data": {
      "text/plain": [
       "0.0     139777\n",
       "1.0      60416\n",
       "2.0      49948\n",
       "3.0      38049\n",
       "4.0      27887\n",
       "5.0      18194\n",
       "6.0      11069\n",
       "7.0       6052\n",
       "8.0       3121\n",
       "9.0       1656\n",
       "10.0       865\n",
       "11.0       479\n",
       "12.0       264\n",
       "13.0       146\n",
       "14.0       107\n",
       "15.0        61\n",
       "16.0        37\n",
       "17.0        22\n",
       "18.0        18\n",
       "19.0        15\n",
       "20.0        13\n",
       "24.0        10\n",
       "22.0         7\n",
       "21.0         4\n",
       "25.0         4\n",
       "27.0         3\n",
       "32.0         2\n",
       "31.0         2\n",
       "23.0         2\n",
       "26.0         2\n",
       "28.0         1\n",
       "30.0         1\n",
       "34.0         1\n",
       "Name: mort_acc, dtype: int64"
      ]
     },
     "execution_count": 51,
     "metadata": {},
     "output_type": "execute_result"
    }
   ],
   "source": [
    "df['mort_acc'].value_counts()"
   ]
  },
  {
   "cell_type": "markdown",
   "id": "bbf5354a",
   "metadata": {},
   "source": [
    "**Let's see which columns highly correlate with mort_acc, and we can conclude the total_acc is a good match**"
   ]
  },
  {
   "cell_type": "code",
   "execution_count": 52,
   "id": "0a0a8ee1",
   "metadata": {},
   "outputs": [
    {
     "data": {
      "text/plain": [
       "int_rate               -0.082583\n",
       "dti                    -0.025439\n",
       "revol_util              0.007514\n",
       "pub_rec                 0.011552\n",
       "pub_rec_bankruptcies    0.027239\n",
       "loan_repaid             0.073111\n",
       "open_acc                0.109205\n",
       "installment             0.193694\n",
       "revol_bal               0.194925\n",
       "loan_amnt               0.222315\n",
       "annual_inc              0.236320\n",
       "total_acc               0.381072\n",
       "mort_acc                1.000000\n",
       "Name: mort_acc, dtype: float64"
      ]
     },
     "execution_count": 52,
     "metadata": {},
     "output_type": "execute_result"
    }
   ],
   "source": [
    "df.corr()['mort_acc'].sort_values()"
   ]
  },
  {
   "cell_type": "markdown",
   "id": "88211d7e",
   "metadata": {},
   "source": [
    "**Creating a function to fill in the missing mort_acc values by the correspondent total_acc values**"
   ]
  },
  {
   "cell_type": "code",
   "execution_count": 53,
   "id": "7d13d7a2",
   "metadata": {},
   "outputs": [
    {
     "data": {
      "text/plain": [
       "total_acc\n",
       "2.0      0.000000\n",
       "3.0      0.052023\n",
       "4.0      0.066743\n",
       "5.0      0.103289\n",
       "6.0      0.151293\n",
       "           ...   \n",
       "124.0    1.000000\n",
       "129.0    1.000000\n",
       "135.0    3.000000\n",
       "150.0    2.000000\n",
       "151.0    0.000000\n",
       "Name: mort_acc, Length: 118, dtype: float64"
      ]
     },
     "execution_count": 53,
     "metadata": {},
     "output_type": "execute_result"
    }
   ],
   "source": [
    "df.groupby('total_acc').mean()['mort_acc']"
   ]
  },
  {
   "cell_type": "code",
   "execution_count": 54,
   "id": "a4265970",
   "metadata": {},
   "outputs": [],
   "source": [
    "total_acc_avg = df.groupby('total_acc').mean()['mort_acc']"
   ]
  },
  {
   "cell_type": "code",
   "execution_count": 55,
   "id": "f500851e",
   "metadata": {},
   "outputs": [],
   "source": [
    "def fill_mort_acc(total_acc,mort_acc):\n",
    "    '''\n",
    "    Accepts the total_acc and mort_acc values for the row.\n",
    "    Checks if the mort_acc is NaN , if so, it returns the avg mort_acc value\n",
    "    for the corresponding total_acc value for that row.\n",
    "    \n",
    "    total_acc_avg here should be a Series or dictionary containing the mapping of the\n",
    "    groupby averages of mort_acc per total_acc values.\n",
    "    '''\n",
    "    if np.isnan(mort_acc):\n",
    "        return total_acc_avg[total_acc]\n",
    "    else:\n",
    "        return mort_acc"
   ]
  },
  {
   "cell_type": "code",
   "execution_count": 56,
   "id": "0402ed86",
   "metadata": {},
   "outputs": [],
   "source": [
    "df['mort_acc'] = df.apply(lambda x: fill_mort_acc(x['total_acc'], x['mort_acc']), axis=1)"
   ]
  },
  {
   "cell_type": "markdown",
   "id": "a018077a",
   "metadata": {},
   "source": [
    "**Revol_util and the pub_rec_bankruptcies have missing data points, but they account for less than 0.5% of the total data, so we can just drop all remaining missing values**"
   ]
  },
  {
   "cell_type": "code",
   "execution_count": 57,
   "id": "f0b5d8c6",
   "metadata": {},
   "outputs": [],
   "source": [
    "df.dropna(inplace=True)"
   ]
  },
  {
   "cell_type": "code",
   "execution_count": 58,
   "id": "ba473c92",
   "metadata": {},
   "outputs": [
    {
     "data": {
      "text/plain": [
       "loan_amnt               0\n",
       "term                    0\n",
       "int_rate                0\n",
       "installment             0\n",
       "grade                   0\n",
       "sub_grade               0\n",
       "home_ownership          0\n",
       "annual_inc              0\n",
       "verification_status     0\n",
       "issue_d                 0\n",
       "loan_status             0\n",
       "purpose                 0\n",
       "dti                     0\n",
       "earliest_cr_line        0\n",
       "open_acc                0\n",
       "pub_rec                 0\n",
       "revol_bal               0\n",
       "revol_util              0\n",
       "total_acc               0\n",
       "initial_list_status     0\n",
       "application_type        0\n",
       "mort_acc                0\n",
       "pub_rec_bankruptcies    0\n",
       "address                 0\n",
       "loan_repaid             0\n",
       "dtype: int64"
      ]
     },
     "execution_count": 58,
     "metadata": {},
     "output_type": "execute_result"
    }
   ],
   "source": [
    "df.isnull().sum()"
   ]
  },
  {
   "cell_type": "markdown",
   "id": "de83c774",
   "metadata": {},
   "source": [
    "## Categorical Variables and Dummy Variables\n",
    "\n",
    "**We're done working with the missing data! Now we just need to deal with the string values due to the categorical columns.**\n",
    "\n",
    "**Listing all the non numerical columns**"
   ]
  },
  {
   "cell_type": "code",
   "execution_count": 59,
   "id": "0f4cedc4",
   "metadata": {
    "scrolled": true
   },
   "outputs": [
    {
     "data": {
      "text/html": [
       "<div>\n",
       "<style scoped>\n",
       "    .dataframe tbody tr th:only-of-type {\n",
       "        vertical-align: middle;\n",
       "    }\n",
       "\n",
       "    .dataframe tbody tr th {\n",
       "        vertical-align: top;\n",
       "    }\n",
       "\n",
       "    .dataframe thead th {\n",
       "        text-align: right;\n",
       "    }\n",
       "</style>\n",
       "<table border=\"1\" class=\"dataframe\">\n",
       "  <thead>\n",
       "    <tr style=\"text-align: right;\">\n",
       "      <th></th>\n",
       "      <th>term</th>\n",
       "      <th>grade</th>\n",
       "      <th>sub_grade</th>\n",
       "      <th>home_ownership</th>\n",
       "      <th>verification_status</th>\n",
       "      <th>issue_d</th>\n",
       "      <th>loan_status</th>\n",
       "      <th>purpose</th>\n",
       "      <th>earliest_cr_line</th>\n",
       "      <th>initial_list_status</th>\n",
       "      <th>application_type</th>\n",
       "      <th>address</th>\n",
       "    </tr>\n",
       "  </thead>\n",
       "  <tbody>\n",
       "    <tr>\n",
       "      <th>0</th>\n",
       "      <td>36 months</td>\n",
       "      <td>B</td>\n",
       "      <td>B4</td>\n",
       "      <td>RENT</td>\n",
       "      <td>Not Verified</td>\n",
       "      <td>Jan-2015</td>\n",
       "      <td>Fully Paid</td>\n",
       "      <td>vacation</td>\n",
       "      <td>Jun-1990</td>\n",
       "      <td>w</td>\n",
       "      <td>INDIVIDUAL</td>\n",
       "      <td>0174 Michelle Gateway\\nMendozaberg, OK 22690</td>\n",
       "    </tr>\n",
       "    <tr>\n",
       "      <th>1</th>\n",
       "      <td>36 months</td>\n",
       "      <td>B</td>\n",
       "      <td>B5</td>\n",
       "      <td>MORTGAGE</td>\n",
       "      <td>Not Verified</td>\n",
       "      <td>Jan-2015</td>\n",
       "      <td>Fully Paid</td>\n",
       "      <td>debt_consolidation</td>\n",
       "      <td>Jul-2004</td>\n",
       "      <td>f</td>\n",
       "      <td>INDIVIDUAL</td>\n",
       "      <td>1076 Carney Fort Apt. 347\\nLoganmouth, SD 05113</td>\n",
       "    </tr>\n",
       "    <tr>\n",
       "      <th>2</th>\n",
       "      <td>36 months</td>\n",
       "      <td>B</td>\n",
       "      <td>B3</td>\n",
       "      <td>RENT</td>\n",
       "      <td>Source Verified</td>\n",
       "      <td>Jan-2015</td>\n",
       "      <td>Fully Paid</td>\n",
       "      <td>credit_card</td>\n",
       "      <td>Aug-2007</td>\n",
       "      <td>f</td>\n",
       "      <td>INDIVIDUAL</td>\n",
       "      <td>87025 Mark Dale Apt. 269\\nNew Sabrina, WV 05113</td>\n",
       "    </tr>\n",
       "    <tr>\n",
       "      <th>3</th>\n",
       "      <td>36 months</td>\n",
       "      <td>A</td>\n",
       "      <td>A2</td>\n",
       "      <td>RENT</td>\n",
       "      <td>Not Verified</td>\n",
       "      <td>Nov-2014</td>\n",
       "      <td>Fully Paid</td>\n",
       "      <td>credit_card</td>\n",
       "      <td>Sep-2006</td>\n",
       "      <td>f</td>\n",
       "      <td>INDIVIDUAL</td>\n",
       "      <td>823 Reid Ford\\nDelacruzside, MA 00813</td>\n",
       "    </tr>\n",
       "    <tr>\n",
       "      <th>4</th>\n",
       "      <td>60 months</td>\n",
       "      <td>C</td>\n",
       "      <td>C5</td>\n",
       "      <td>MORTGAGE</td>\n",
       "      <td>Verified</td>\n",
       "      <td>Apr-2013</td>\n",
       "      <td>Charged Off</td>\n",
       "      <td>credit_card</td>\n",
       "      <td>Mar-1999</td>\n",
       "      <td>f</td>\n",
       "      <td>INDIVIDUAL</td>\n",
       "      <td>679 Luna Roads\\nGreggshire, VA 11650</td>\n",
       "    </tr>\n",
       "    <tr>\n",
       "      <th>...</th>\n",
       "      <td>...</td>\n",
       "      <td>...</td>\n",
       "      <td>...</td>\n",
       "      <td>...</td>\n",
       "      <td>...</td>\n",
       "      <td>...</td>\n",
       "      <td>...</td>\n",
       "      <td>...</td>\n",
       "      <td>...</td>\n",
       "      <td>...</td>\n",
       "      <td>...</td>\n",
       "      <td>...</td>\n",
       "    </tr>\n",
       "    <tr>\n",
       "      <th>396025</th>\n",
       "      <td>60 months</td>\n",
       "      <td>B</td>\n",
       "      <td>B4</td>\n",
       "      <td>RENT</td>\n",
       "      <td>Source Verified</td>\n",
       "      <td>Oct-2015</td>\n",
       "      <td>Fully Paid</td>\n",
       "      <td>debt_consolidation</td>\n",
       "      <td>Nov-2004</td>\n",
       "      <td>w</td>\n",
       "      <td>INDIVIDUAL</td>\n",
       "      <td>12951 Williams Crossing\\nJohnnyville, DC 30723</td>\n",
       "    </tr>\n",
       "    <tr>\n",
       "      <th>396026</th>\n",
       "      <td>36 months</td>\n",
       "      <td>C</td>\n",
       "      <td>C1</td>\n",
       "      <td>MORTGAGE</td>\n",
       "      <td>Source Verified</td>\n",
       "      <td>Feb-2015</td>\n",
       "      <td>Fully Paid</td>\n",
       "      <td>debt_consolidation</td>\n",
       "      <td>Feb-2006</td>\n",
       "      <td>f</td>\n",
       "      <td>INDIVIDUAL</td>\n",
       "      <td>0114 Fowler Field Suite 028\\nRachelborough, LA...</td>\n",
       "    </tr>\n",
       "    <tr>\n",
       "      <th>396027</th>\n",
       "      <td>36 months</td>\n",
       "      <td>B</td>\n",
       "      <td>B1</td>\n",
       "      <td>RENT</td>\n",
       "      <td>Verified</td>\n",
       "      <td>Oct-2013</td>\n",
       "      <td>Fully Paid</td>\n",
       "      <td>debt_consolidation</td>\n",
       "      <td>Mar-1997</td>\n",
       "      <td>f</td>\n",
       "      <td>INDIVIDUAL</td>\n",
       "      <td>953 Matthew Points Suite 414\\nReedfort, NY 70466</td>\n",
       "    </tr>\n",
       "    <tr>\n",
       "      <th>396028</th>\n",
       "      <td>60 months</td>\n",
       "      <td>C</td>\n",
       "      <td>C2</td>\n",
       "      <td>MORTGAGE</td>\n",
       "      <td>Verified</td>\n",
       "      <td>Aug-2012</td>\n",
       "      <td>Fully Paid</td>\n",
       "      <td>debt_consolidation</td>\n",
       "      <td>Nov-1990</td>\n",
       "      <td>f</td>\n",
       "      <td>INDIVIDUAL</td>\n",
       "      <td>7843 Blake Freeway Apt. 229\\nNew Michael, FL 2...</td>\n",
       "    </tr>\n",
       "    <tr>\n",
       "      <th>396029</th>\n",
       "      <td>36 months</td>\n",
       "      <td>C</td>\n",
       "      <td>C2</td>\n",
       "      <td>RENT</td>\n",
       "      <td>Verified</td>\n",
       "      <td>Jun-2010</td>\n",
       "      <td>Fully Paid</td>\n",
       "      <td>debt_consolidation</td>\n",
       "      <td>Sep-1998</td>\n",
       "      <td>f</td>\n",
       "      <td>INDIVIDUAL</td>\n",
       "      <td>787 Michelle Causeway\\nBriannaton, AR 48052</td>\n",
       "    </tr>\n",
       "  </tbody>\n",
       "</table>\n",
       "<p>395219 rows × 12 columns</p>\n",
       "</div>"
      ],
      "text/plain": [
       "              term grade sub_grade home_ownership verification_status  \\\n",
       "0        36 months     B        B4           RENT        Not Verified   \n",
       "1        36 months     B        B5       MORTGAGE        Not Verified   \n",
       "2        36 months     B        B3           RENT     Source Verified   \n",
       "3        36 months     A        A2           RENT        Not Verified   \n",
       "4        60 months     C        C5       MORTGAGE            Verified   \n",
       "...            ...   ...       ...            ...                 ...   \n",
       "396025   60 months     B        B4           RENT     Source Verified   \n",
       "396026   36 months     C        C1       MORTGAGE     Source Verified   \n",
       "396027   36 months     B        B1           RENT            Verified   \n",
       "396028   60 months     C        C2       MORTGAGE            Verified   \n",
       "396029   36 months     C        C2           RENT            Verified   \n",
       "\n",
       "         issue_d  loan_status             purpose earliest_cr_line  \\\n",
       "0       Jan-2015   Fully Paid            vacation         Jun-1990   \n",
       "1       Jan-2015   Fully Paid  debt_consolidation         Jul-2004   \n",
       "2       Jan-2015   Fully Paid         credit_card         Aug-2007   \n",
       "3       Nov-2014   Fully Paid         credit_card         Sep-2006   \n",
       "4       Apr-2013  Charged Off         credit_card         Mar-1999   \n",
       "...          ...          ...                 ...              ...   \n",
       "396025  Oct-2015   Fully Paid  debt_consolidation         Nov-2004   \n",
       "396026  Feb-2015   Fully Paid  debt_consolidation         Feb-2006   \n",
       "396027  Oct-2013   Fully Paid  debt_consolidation         Mar-1997   \n",
       "396028  Aug-2012   Fully Paid  debt_consolidation         Nov-1990   \n",
       "396029  Jun-2010   Fully Paid  debt_consolidation         Sep-1998   \n",
       "\n",
       "       initial_list_status application_type  \\\n",
       "0                        w       INDIVIDUAL   \n",
       "1                        f       INDIVIDUAL   \n",
       "2                        f       INDIVIDUAL   \n",
       "3                        f       INDIVIDUAL   \n",
       "4                        f       INDIVIDUAL   \n",
       "...                    ...              ...   \n",
       "396025                   w       INDIVIDUAL   \n",
       "396026                   f       INDIVIDUAL   \n",
       "396027                   f       INDIVIDUAL   \n",
       "396028                   f       INDIVIDUAL   \n",
       "396029                   f       INDIVIDUAL   \n",
       "\n",
       "                                                  address  \n",
       "0            0174 Michelle Gateway\\nMendozaberg, OK 22690  \n",
       "1         1076 Carney Fort Apt. 347\\nLoganmouth, SD 05113  \n",
       "2         87025 Mark Dale Apt. 269\\nNew Sabrina, WV 05113  \n",
       "3                   823 Reid Ford\\nDelacruzside, MA 00813  \n",
       "4                    679 Luna Roads\\nGreggshire, VA 11650  \n",
       "...                                                   ...  \n",
       "396025     12951 Williams Crossing\\nJohnnyville, DC 30723  \n",
       "396026  0114 Fowler Field Suite 028\\nRachelborough, LA...  \n",
       "396027   953 Matthew Points Suite 414\\nReedfort, NY 70466  \n",
       "396028  7843 Blake Freeway Apt. 229\\nNew Michael, FL 2...  \n",
       "396029        787 Michelle Causeway\\nBriannaton, AR 48052  \n",
       "\n",
       "[395219 rows x 12 columns]"
      ]
     },
     "execution_count": 59,
     "metadata": {},
     "output_type": "execute_result"
    }
   ],
   "source": [
    "df.select_dtypes(include=['object'])"
   ]
  },
  {
   "cell_type": "code",
   "execution_count": 60,
   "id": "ad6e0998",
   "metadata": {},
   "outputs": [
    {
     "data": {
      "text/plain": [
       "Index(['term', 'grade', 'sub_grade', 'home_ownership', 'verification_status',\n",
       "       'issue_d', 'loan_status', 'purpose', 'earliest_cr_line',\n",
       "       'initial_list_status', 'application_type', 'address'],\n",
       "      dtype='object')"
      ]
     },
     "execution_count": 60,
     "metadata": {},
     "output_type": "execute_result"
    }
   ],
   "source": [
    "df.select_dtypes(include=['object']).columns"
   ]
  },
  {
   "cell_type": "markdown",
   "id": "9bad5553",
   "metadata": {},
   "source": [
    "---\n",
    "# Let's now go through all the string features to see what we should do with them.\n",
    "\n",
    "---\n",
    "\n",
    "\n",
    "## term feature\n",
    "\n",
    "**36/60 months -> 36/60**"
   ]
  },
  {
   "cell_type": "code",
   "execution_count": 61,
   "id": "74f78988",
   "metadata": {},
   "outputs": [],
   "source": [
    "df['term'] = df['term'].apply(lambda x:int(x.split()[0]))"
   ]
  },
  {
   "cell_type": "code",
   "execution_count": 62,
   "id": "30332b37",
   "metadata": {
    "scrolled": true
   },
   "outputs": [
    {
     "data": {
      "text/plain": [
       "36    301247\n",
       "60     93972\n",
       "Name: term, dtype: int64"
      ]
     },
     "execution_count": 62,
     "metadata": {},
     "output_type": "execute_result"
    }
   ],
   "source": [
    "df['term'].value_counts()"
   ]
  },
  {
   "cell_type": "markdown",
   "id": "add0afe2",
   "metadata": {},
   "source": [
    "## grade and subgrade features\n",
    "\n",
    "**We can drop grade since all the grade information is also in subgrade**"
   ]
  },
  {
   "cell_type": "code",
   "execution_count": 63,
   "id": "6a168ca7",
   "metadata": {},
   "outputs": [],
   "source": [
    "df.drop(['grade'],axis=1,inplace=True)"
   ]
  },
  {
   "cell_type": "markdown",
   "id": "f4724bee",
   "metadata": {},
   "source": [
    "**Converting subgrade into dummy variables**"
   ]
  },
  {
   "cell_type": "code",
   "execution_count": 64,
   "id": "984ba918",
   "metadata": {},
   "outputs": [],
   "source": [
    "df = pd.get_dummies(df, columns=['sub_grade'])"
   ]
  },
  {
   "cell_type": "code",
   "execution_count": 65,
   "id": "3efc3976",
   "metadata": {
    "scrolled": true
   },
   "outputs": [
    {
     "data": {
      "text/plain": [
       "Index(['loan_amnt', 'term', 'int_rate', 'installment', 'home_ownership',\n",
       "       'annual_inc', 'verification_status', 'issue_d', 'loan_status',\n",
       "       'purpose', 'dti', 'earliest_cr_line', 'open_acc', 'pub_rec',\n",
       "       'revol_bal', 'revol_util', 'total_acc', 'initial_list_status',\n",
       "       'application_type', 'mort_acc', 'pub_rec_bankruptcies', 'address',\n",
       "       'loan_repaid', 'sub_grade_A1', 'sub_grade_A2', 'sub_grade_A3',\n",
       "       'sub_grade_A4', 'sub_grade_A5', 'sub_grade_B1', 'sub_grade_B2',\n",
       "       'sub_grade_B3', 'sub_grade_B4', 'sub_grade_B5', 'sub_grade_C1',\n",
       "       'sub_grade_C2', 'sub_grade_C3', 'sub_grade_C4', 'sub_grade_C5',\n",
       "       'sub_grade_D1', 'sub_grade_D2', 'sub_grade_D3', 'sub_grade_D4',\n",
       "       'sub_grade_D5', 'sub_grade_E1', 'sub_grade_E2', 'sub_grade_E3',\n",
       "       'sub_grade_E4', 'sub_grade_E5', 'sub_grade_F1', 'sub_grade_F2',\n",
       "       'sub_grade_F3', 'sub_grade_F4', 'sub_grade_F5', 'sub_grade_G1',\n",
       "       'sub_grade_G2', 'sub_grade_G3', 'sub_grade_G4', 'sub_grade_G5'],\n",
       "      dtype='object')"
      ]
     },
     "execution_count": 65,
     "metadata": {},
     "output_type": "execute_result"
    }
   ],
   "source": [
    "df.columns"
   ]
  },
  {
   "cell_type": "markdown",
   "id": "5d23895d",
   "metadata": {},
   "source": [
    "## verification_status, application_type,initial_list_status,purpose \n",
    "\n",
    "**Converting all these columns to dummy variables **"
   ]
  },
  {
   "cell_type": "code",
   "execution_count": 66,
   "id": "ed91d4ef",
   "metadata": {},
   "outputs": [
    {
     "data": {
      "text/plain": [
       "Verified           139451\n",
       "Source Verified    131301\n",
       "Not Verified       124467\n",
       "Name: verification_status, dtype: int64"
      ]
     },
     "execution_count": 66,
     "metadata": {},
     "output_type": "execute_result"
    }
   ],
   "source": [
    "df['verification_status'].value_counts()"
   ]
  },
  {
   "cell_type": "code",
   "execution_count": 67,
   "id": "741e9827",
   "metadata": {},
   "outputs": [],
   "source": [
    "df = pd.get_dummies(df, columns=['verification_status'])"
   ]
  },
  {
   "cell_type": "code",
   "execution_count": 68,
   "id": "1cfad4f2",
   "metadata": {
    "scrolled": true
   },
   "outputs": [
    {
     "data": {
      "text/plain": [
       "Index(['loan_amnt', 'term', 'int_rate', 'installment', 'home_ownership',\n",
       "       'annual_inc', 'issue_d', 'loan_status', 'purpose', 'dti',\n",
       "       'earliest_cr_line', 'open_acc', 'pub_rec', 'revol_bal', 'revol_util',\n",
       "       'total_acc', 'initial_list_status', 'application_type', 'mort_acc',\n",
       "       'pub_rec_bankruptcies', 'address', 'loan_repaid', 'sub_grade_A1',\n",
       "       'sub_grade_A2', 'sub_grade_A3', 'sub_grade_A4', 'sub_grade_A5',\n",
       "       'sub_grade_B1', 'sub_grade_B2', 'sub_grade_B3', 'sub_grade_B4',\n",
       "       'sub_grade_B5', 'sub_grade_C1', 'sub_grade_C2', 'sub_grade_C3',\n",
       "       'sub_grade_C4', 'sub_grade_C5', 'sub_grade_D1', 'sub_grade_D2',\n",
       "       'sub_grade_D3', 'sub_grade_D4', 'sub_grade_D5', 'sub_grade_E1',\n",
       "       'sub_grade_E2', 'sub_grade_E3', 'sub_grade_E4', 'sub_grade_E5',\n",
       "       'sub_grade_F1', 'sub_grade_F2', 'sub_grade_F3', 'sub_grade_F4',\n",
       "       'sub_grade_F5', 'sub_grade_G1', 'sub_grade_G2', 'sub_grade_G3',\n",
       "       'sub_grade_G4', 'sub_grade_G5', 'verification_status_Not Verified',\n",
       "       'verification_status_Source Verified', 'verification_status_Verified'],\n",
       "      dtype='object')"
      ]
     },
     "execution_count": 68,
     "metadata": {},
     "output_type": "execute_result"
    }
   ],
   "source": [
    "df.columns"
   ]
  },
  {
   "cell_type": "code",
   "execution_count": 69,
   "id": "a5164297",
   "metadata": {},
   "outputs": [
    {
     "data": {
      "text/plain": [
       "INDIVIDUAL    394508\n",
       "JOINT            425\n",
       "DIRECT_PAY       286\n",
       "Name: application_type, dtype: int64"
      ]
     },
     "execution_count": 69,
     "metadata": {},
     "output_type": "execute_result"
    }
   ],
   "source": [
    "df['application_type'].value_counts()"
   ]
  },
  {
   "cell_type": "code",
   "execution_count": 70,
   "id": "0547a5c6",
   "metadata": {},
   "outputs": [],
   "source": [
    "df = pd.get_dummies(df, columns=['application_type','initial_list_status','purpose'])"
   ]
  },
  {
   "cell_type": "code",
   "execution_count": 71,
   "id": "493683c0",
   "metadata": {},
   "outputs": [
    {
     "data": {
      "text/plain": [
       "Index(['loan_amnt', 'term', 'int_rate', 'installment', 'home_ownership',\n",
       "       'annual_inc', 'issue_d', 'loan_status', 'dti', 'earliest_cr_line',\n",
       "       'open_acc', 'pub_rec', 'revol_bal', 'revol_util', 'total_acc',\n",
       "       'mort_acc', 'pub_rec_bankruptcies', 'address', 'loan_repaid',\n",
       "       'sub_grade_A1', 'sub_grade_A2', 'sub_grade_A3', 'sub_grade_A4',\n",
       "       'sub_grade_A5', 'sub_grade_B1', 'sub_grade_B2', 'sub_grade_B3',\n",
       "       'sub_grade_B4', 'sub_grade_B5', 'sub_grade_C1', 'sub_grade_C2',\n",
       "       'sub_grade_C3', 'sub_grade_C4', 'sub_grade_C5', 'sub_grade_D1',\n",
       "       'sub_grade_D2', 'sub_grade_D3', 'sub_grade_D4', 'sub_grade_D5',\n",
       "       'sub_grade_E1', 'sub_grade_E2', 'sub_grade_E3', 'sub_grade_E4',\n",
       "       'sub_grade_E5', 'sub_grade_F1', 'sub_grade_F2', 'sub_grade_F3',\n",
       "       'sub_grade_F4', 'sub_grade_F5', 'sub_grade_G1', 'sub_grade_G2',\n",
       "       'sub_grade_G3', 'sub_grade_G4', 'sub_grade_G5',\n",
       "       'verification_status_Not Verified',\n",
       "       'verification_status_Source Verified', 'verification_status_Verified',\n",
       "       'application_type_DIRECT_PAY', 'application_type_INDIVIDUAL',\n",
       "       'application_type_JOINT', 'initial_list_status_f',\n",
       "       'initial_list_status_w', 'purpose_car', 'purpose_credit_card',\n",
       "       'purpose_debt_consolidation', 'purpose_educational',\n",
       "       'purpose_home_improvement', 'purpose_house', 'purpose_major_purchase',\n",
       "       'purpose_medical', 'purpose_moving', 'purpose_other',\n",
       "       'purpose_renewable_energy', 'purpose_small_business',\n",
       "       'purpose_vacation', 'purpose_wedding'],\n",
       "      dtype='object')"
      ]
     },
     "execution_count": 71,
     "metadata": {},
     "output_type": "execute_result"
    }
   ],
   "source": [
    "df.columns"
   ]
  },
  {
   "cell_type": "code",
   "execution_count": 72,
   "id": "ba4ff6e4",
   "metadata": {},
   "outputs": [],
   "source": [
    "df.drop(['initial_list_status_w'],axis=1,inplace=True)"
   ]
  },
  {
   "cell_type": "code",
   "execution_count": 73,
   "id": "2f552c19",
   "metadata": {},
   "outputs": [
    {
     "name": "stdout",
     "output_type": "stream",
     "text": [
      "loan_amnt\n",
      "10000.0    27598\n",
      "12000.0    21331\n",
      "15000.0    19870\n",
      "20000.0    18941\n",
      "35000.0    14564\n",
      "           ...  \n",
      "36225.0        1\n",
      "30050.0        1\n",
      "36525.0        1\n",
      "39700.0        1\n",
      "725.0          1\n",
      "Name: loan_amnt, Length: 1392, dtype: int64\n",
      "\n",
      "\n",
      "\n",
      "\n",
      "term\n",
      "36    301247\n",
      "60     93972\n",
      "Name: term, dtype: int64\n",
      "\n",
      "\n",
      "\n",
      "\n",
      "int_rate\n",
      "10.99    12407\n",
      "12.99     9627\n",
      "15.61     9343\n",
      "11.99     8578\n",
      "8.90      8017\n",
      "         ...  \n",
      "16.33        1\n",
      "10.91        1\n",
      "12.36        1\n",
      "18.72        1\n",
      "9.01         1\n",
      "Name: int_rate, Length: 532, dtype: int64\n",
      "\n",
      "\n",
      "\n",
      "\n",
      "installment\n",
      "327.34    968\n",
      "332.10    791\n",
      "491.01    736\n",
      "336.90    686\n",
      "392.81    682\n",
      "         ... \n",
      "161.19      1\n",
      "328.09      1\n",
      "887.31      1\n",
      "453.03      1\n",
      "572.44      1\n",
      "Name: installment, Length: 55545, dtype: int64\n",
      "\n",
      "\n",
      "\n",
      "\n",
      "home_ownership\n",
      "MORTGAGE    198022\n",
      "RENT        159395\n",
      "OWN          37660\n",
      "OTHER          110\n",
      "NONE            29\n",
      "ANY              3\n",
      "Name: home_ownership, dtype: int64\n",
      "\n",
      "\n",
      "\n",
      "\n",
      "annual_inc\n",
      "60000.00    15288\n",
      "50000.00    13282\n",
      "65000.00    11317\n",
      "70000.00    10662\n",
      "40000.00    10612\n",
      "            ...  \n",
      "67842.00        1\n",
      "72179.00        1\n",
      "50416.00        1\n",
      "46820.80        1\n",
      "31789.88        1\n",
      "Name: annual_inc, Length: 27155, dtype: int64\n",
      "\n",
      "\n",
      "\n",
      "\n",
      "issue_d\n",
      "Oct-2014    14838\n",
      "Jul-2014    12597\n",
      "Jan-2015    11701\n",
      "Dec-2013    10609\n",
      "Nov-2013    10492\n",
      "            ...  \n",
      "Jan-2008        3\n",
      "Dec-2007        2\n",
      "Oct-2007        1\n",
      "Nov-2007        1\n",
      "Aug-2007        1\n",
      "Name: issue_d, Length: 112, dtype: int64\n",
      "\n",
      "\n",
      "\n",
      "\n",
      "loan_status\n",
      "Fully Paid     317696\n",
      "Charged Off     77523\n",
      "Name: loan_status, dtype: int64\n",
      "\n",
      "\n",
      "\n",
      "\n",
      "dti\n",
      "14.40    307\n",
      "19.20    302\n",
      "16.80    301\n",
      "18.00    297\n",
      "20.40    295\n",
      "        ... \n",
      "48.37      1\n",
      "45.71      1\n",
      "42.38      1\n",
      "44.65      1\n",
      "55.53      1\n",
      "Name: dti, Length: 4262, dtype: int64\n",
      "\n",
      "\n",
      "\n",
      "\n",
      "earliest_cr_line\n",
      "Oct-2000    3013\n",
      "Aug-2000    2930\n",
      "Oct-2001    2890\n",
      "Aug-2001    2879\n",
      "Nov-2000    2729\n",
      "            ... \n",
      "Jul-1955       1\n",
      "Oct-1950       1\n",
      "May-1958       1\n",
      "Nov-1955       1\n",
      "Aug-1959       1\n",
      "Name: earliest_cr_line, Length: 684, dtype: int64\n",
      "\n",
      "\n",
      "\n",
      "\n",
      "open_acc\n",
      "9.0     36716\n",
      "10.0    35395\n",
      "8.0     35076\n",
      "11.0    32651\n",
      "7.0     31267\n",
      "12.0    29133\n",
      "6.0     25858\n",
      "13.0    24953\n",
      "14.0    21156\n",
      "5.0     18234\n",
      "15.0    17333\n",
      "16.0    14364\n",
      "17.0    11604\n",
      "4.0     10637\n",
      "18.0     9428\n",
      "19.0     7718\n",
      "20.0     5965\n",
      "3.0      4703\n",
      "21.0     4646\n",
      "22.0     3689\n",
      "23.0     2941\n",
      "24.0     2361\n",
      "25.0     1790\n",
      "2.0      1384\n",
      "26.0     1273\n",
      "27.0     1057\n",
      "28.0      777\n",
      "29.0      616\n",
      "30.0      482\n",
      "31.0      372\n",
      "32.0      326\n",
      "33.0      245\n",
      "34.0      207\n",
      "35.0      161\n",
      "36.0      115\n",
      "37.0      101\n",
      "38.0       89\n",
      "1.0        71\n",
      "39.0       67\n",
      "41.0       49\n",
      "40.0       43\n",
      "42.0       40\n",
      "43.0       22\n",
      "45.0       17\n",
      "44.0       16\n",
      "47.0       14\n",
      "49.0       11\n",
      "46.0        8\n",
      "48.0        7\n",
      "50.0        6\n",
      "53.0        6\n",
      "51.0        4\n",
      "52.0        3\n",
      "54.0        3\n",
      "56.0        2\n",
      "55.0        2\n",
      "76.0        2\n",
      "58.0        1\n",
      "57.0        1\n",
      "90.0        1\n",
      "Name: open_acc, dtype: int64\n",
      "\n",
      "\n",
      "\n",
      "\n",
      "pub_rec\n",
      "0.0     337489\n",
      "1.0      49713\n",
      "2.0       5474\n",
      "3.0       1521\n",
      "4.0        527\n",
      "5.0        237\n",
      "6.0        122\n",
      "7.0         56\n",
      "8.0         34\n",
      "9.0         12\n",
      "10.0        11\n",
      "11.0         8\n",
      "13.0         4\n",
      "12.0         4\n",
      "19.0         2\n",
      "40.0         1\n",
      "17.0         1\n",
      "86.0         1\n",
      "24.0         1\n",
      "15.0         1\n",
      "Name: pub_rec, dtype: int64\n",
      "\n",
      "\n",
      "\n",
      "\n",
      "revol_bal\n",
      "0.0         1883\n",
      "5655.0        41\n",
      "7792.0        38\n",
      "6095.0        38\n",
      "6077.0        36\n",
      "            ... \n",
      "133808.0       1\n",
      "43495.0        1\n",
      "119295.0       1\n",
      "36988.0        1\n",
      "29244.0        1\n",
      "Name: revol_bal, Length: 55570, dtype: int64\n",
      "\n",
      "\n",
      "\n",
      "\n",
      "revol_util\n",
      "0.00      2183\n",
      "53.00      752\n",
      "60.00      738\n",
      "61.00      734\n",
      "55.00      730\n",
      "          ... \n",
      "21.72        1\n",
      "109.30       1\n",
      "146.10       1\n",
      "0.75         1\n",
      "128.10       1\n",
      "Name: revol_util, Length: 1226, dtype: int64\n",
      "\n",
      "\n",
      "\n",
      "\n",
      "total_acc\n",
      "21.0     14257\n",
      "22.0     14235\n",
      "20.0     14193\n",
      "23.0     13899\n",
      "24.0     13855\n",
      "         ...  \n",
      "151.0        1\n",
      "124.0        1\n",
      "110.0        1\n",
      "129.0        1\n",
      "103.0        1\n",
      "Name: total_acc, Length: 118, dtype: int64\n",
      "\n",
      "\n",
      "\n",
      "\n",
      "mort_acc\n",
      "0.000000    139708\n",
      "1.000000     60384\n",
      "2.000000     49908\n",
      "3.000000     38022\n",
      "4.000000     27865\n",
      "             ...  \n",
      "2.800000         1\n",
      "3.111111         1\n",
      "2.026316         1\n",
      "3.278481         1\n",
      "3.720588         1\n",
      "Name: mort_acc, Length: 110, dtype: int64\n",
      "\n",
      "\n",
      "\n",
      "\n",
      "pub_rec_bankruptcies\n",
      "0.0    350108\n",
      "1.0     42786\n",
      "2.0      1847\n",
      "3.0       351\n",
      "4.0        82\n",
      "5.0        32\n",
      "6.0         7\n",
      "7.0         4\n",
      "8.0         2\n",
      "Name: pub_rec_bankruptcies, dtype: int64\n",
      "\n",
      "\n",
      "\n",
      "\n",
      "address\n",
      "USCGC Smith\\nFPO AE 70466                            8\n",
      "USS Smith\\nFPO AP 70466                              8\n",
      "USS Johnson\\nFPO AE 48052                            8\n",
      "USNS Johnson\\nFPO AE 05113                           8\n",
      "USNS Johnson\\nFPO AP 48052                           7\n",
      "                                                    ..\n",
      "43570 Maxwell Field Apt. 502\\nEast John, NH 22690    1\n",
      "9983 Turner Cove\\nSouth Gregmouth, WV 70466          1\n",
      "1312 Cody Shoal\\nRalphfurt, CO 29597                 1\n",
      "3841 Liu Crest\\nClarkchester, NC 29597               1\n",
      "787 Michelle Causeway\\nBriannaton, AR 48052          1\n",
      "Name: address, Length: 392898, dtype: int64\n",
      "\n",
      "\n",
      "\n",
      "\n",
      "loan_repaid\n",
      "1    317696\n",
      "0     77523\n",
      "Name: loan_repaid, dtype: int64\n",
      "\n",
      "\n",
      "\n",
      "\n",
      "sub_grade_A1\n",
      "0    385502\n",
      "1      9717\n",
      "Name: sub_grade_A1, dtype: int64\n",
      "\n",
      "\n",
      "\n",
      "\n",
      "sub_grade_A2\n",
      "0    385680\n",
      "1      9539\n",
      "Name: sub_grade_A2, dtype: int64\n",
      "\n",
      "\n",
      "\n",
      "\n",
      "sub_grade_A3\n",
      "0    384682\n",
      "1     10537\n",
      "Name: sub_grade_A3, dtype: int64\n",
      "\n",
      "\n",
      "\n",
      "\n",
      "sub_grade_A4\n",
      "0    379456\n",
      "1     15763\n",
      "Name: sub_grade_A4, dtype: int64\n",
      "\n",
      "\n",
      "\n",
      "\n",
      "sub_grade_A5\n",
      "0    376719\n",
      "1     18500\n",
      "Name: sub_grade_A5, dtype: int64\n",
      "\n",
      "\n",
      "\n",
      "\n",
      "sub_grade_B1\n",
      "0    376079\n",
      "1     19140\n",
      "Name: sub_grade_B1, dtype: int64\n",
      "\n",
      "\n",
      "\n",
      "\n",
      "sub_grade_B2\n",
      "0    372762\n",
      "1     22457\n",
      "Name: sub_grade_B2, dtype: int64\n",
      "\n",
      "\n",
      "\n",
      "\n",
      "sub_grade_B3\n",
      "0    368608\n",
      "1     26611\n",
      "Name: sub_grade_B3, dtype: int64\n",
      "\n",
      "\n",
      "\n",
      "\n",
      "sub_grade_B4\n",
      "0    369661\n",
      "1     25558\n",
      "Name: sub_grade_B4, dtype: int64\n",
      "\n",
      "\n",
      "\n",
      "\n",
      "sub_grade_B5\n",
      "0    373173\n",
      "1     22046\n",
      "Name: sub_grade_B5, dtype: int64\n",
      "\n",
      "\n",
      "\n",
      "\n",
      "sub_grade_C1\n",
      "0    371610\n",
      "1     23609\n",
      "Name: sub_grade_C1, dtype: int64\n",
      "\n",
      "\n",
      "\n",
      "\n",
      "sub_grade_C2\n",
      "0    372678\n",
      "1     22541\n",
      "Name: sub_grade_C2, dtype: int64\n",
      "\n",
      "\n",
      "\n",
      "\n",
      "sub_grade_C3\n",
      "0    374041\n",
      "1     21178\n",
      "Name: sub_grade_C3, dtype: int64\n",
      "\n",
      "\n",
      "\n",
      "\n",
      "sub_grade_C4\n",
      "0    374987\n",
      "1     20232\n",
      "Name: sub_grade_C4, dtype: int64\n",
      "\n",
      "\n",
      "\n",
      "\n",
      "sub_grade_C5\n",
      "0    377004\n",
      "1     18215\n",
      "Name: sub_grade_C5, dtype: int64\n",
      "\n",
      "\n",
      "\n",
      "\n",
      "sub_grade_D1\n",
      "0    379272\n",
      "1     15947\n",
      "Name: sub_grade_D1, dtype: int64\n",
      "\n",
      "\n",
      "\n",
      "\n",
      "sub_grade_D2\n",
      "0    381303\n",
      "1     13916\n",
      "Name: sub_grade_D2, dtype: int64\n",
      "\n",
      "\n",
      "\n",
      "\n",
      "sub_grade_D3\n",
      "0    383023\n",
      "1     12196\n",
      "Name: sub_grade_D3, dtype: int64\n",
      "\n",
      "\n",
      "\n",
      "\n",
      "sub_grade_D4\n",
      "0    383594\n",
      "1     11625\n",
      "Name: sub_grade_D4, dtype: int64\n",
      "\n",
      "\n",
      "\n",
      "\n",
      "sub_grade_D5\n",
      "0    385539\n",
      "1      9680\n",
      "Name: sub_grade_D5, dtype: int64\n",
      "\n",
      "\n",
      "\n",
      "\n",
      "sub_grade_E1\n",
      "0    387313\n",
      "1      7906\n",
      "Name: sub_grade_E1, dtype: int64\n",
      "\n",
      "\n",
      "\n",
      "\n",
      "sub_grade_E2\n",
      "0    387809\n",
      "1      7410\n",
      "Name: sub_grade_E2, dtype: int64\n",
      "\n",
      "\n",
      "\n",
      "\n",
      "sub_grade_E3\n",
      "0    389023\n",
      "1      6196\n",
      "Name: sub_grade_E3, dtype: int64\n",
      "\n",
      "\n",
      "\n",
      "\n",
      "sub_grade_E4\n",
      "0    389865\n",
      "1      5354\n",
      "Name: sub_grade_E4, dtype: int64\n",
      "\n",
      "\n",
      "\n",
      "\n",
      "sub_grade_E5\n",
      "0    390658\n",
      "1      4561\n",
      "Name: sub_grade_E5, dtype: int64\n",
      "\n",
      "\n",
      "\n",
      "\n",
      "sub_grade_F1\n",
      "0    391689\n",
      "1      3530\n",
      "Name: sub_grade_F1, dtype: int64\n",
      "\n",
      "\n",
      "\n",
      "\n",
      "sub_grade_F2\n",
      "0    392463\n",
      "1      2756\n",
      "Name: sub_grade_F2, dtype: int64\n",
      "\n",
      "\n",
      "\n",
      "\n",
      "sub_grade_F3\n",
      "0    392942\n",
      "1      2277\n",
      "Name: sub_grade_F3, dtype: int64\n",
      "\n",
      "\n",
      "\n",
      "\n",
      "sub_grade_F4\n",
      "0    393437\n",
      "1      1782\n",
      "Name: sub_grade_F4, dtype: int64\n",
      "\n",
      "\n",
      "\n",
      "\n",
      "sub_grade_F5\n",
      "0    393824\n",
      "1      1395\n",
      "Name: sub_grade_F5, dtype: int64\n",
      "\n",
      "\n",
      "\n",
      "\n",
      "sub_grade_G1\n",
      "0    394162\n",
      "1      1057\n",
      "Name: sub_grade_G1, dtype: int64\n",
      "\n",
      "\n",
      "\n",
      "\n",
      "sub_grade_G2\n",
      "0    394467\n",
      "1       752\n",
      "Name: sub_grade_G2, dtype: int64\n",
      "\n",
      "\n",
      "\n",
      "\n",
      "sub_grade_G3\n",
      "0    394667\n",
      "1       552\n",
      "Name: sub_grade_G3, dtype: int64\n",
      "\n",
      "\n",
      "\n",
      "\n",
      "sub_grade_G4\n",
      "0    394848\n",
      "1       371\n",
      "Name: sub_grade_G4, dtype: int64\n",
      "\n",
      "\n",
      "\n",
      "\n",
      "sub_grade_G5\n",
      "0    394906\n",
      "1       313\n",
      "Name: sub_grade_G5, dtype: int64\n",
      "\n",
      "\n",
      "\n",
      "\n",
      "verification_status_Not Verified\n",
      "0    270752\n",
      "1    124467\n",
      "Name: verification_status_Not Verified, dtype: int64\n",
      "\n",
      "\n",
      "\n",
      "\n",
      "verification_status_Source Verified\n",
      "0    263918\n",
      "1    131301\n",
      "Name: verification_status_Source Verified, dtype: int64\n",
      "\n",
      "\n",
      "\n",
      "\n",
      "verification_status_Verified\n",
      "0    255768\n",
      "1    139451\n",
      "Name: verification_status_Verified, dtype: int64\n",
      "\n",
      "\n",
      "\n",
      "\n",
      "application_type_DIRECT_PAY\n",
      "0    394933\n",
      "1       286\n",
      "Name: application_type_DIRECT_PAY, dtype: int64\n",
      "\n",
      "\n",
      "\n",
      "\n",
      "application_type_INDIVIDUAL\n",
      "1    394508\n",
      "0       711\n",
      "Name: application_type_INDIVIDUAL, dtype: int64\n",
      "\n",
      "\n",
      "\n",
      "\n",
      "application_type_JOINT\n",
      "0    394794\n",
      "1       425\n",
      "Name: application_type_JOINT, dtype: int64\n",
      "\n",
      "\n",
      "\n",
      "\n",
      "initial_list_status_f\n",
      "1    237346\n",
      "0    157873\n",
      "Name: initial_list_status_f, dtype: int64\n",
      "\n",
      "\n",
      "\n",
      "\n",
      "purpose_car\n",
      "0    390549\n",
      "1      4670\n",
      "Name: purpose_car, dtype: int64\n",
      "\n",
      "\n",
      "\n",
      "\n",
      "purpose_credit_card\n",
      "0    312296\n",
      "1     82923\n",
      "Name: purpose_credit_card, dtype: int64\n",
      "\n",
      "\n",
      "\n",
      "\n",
      "purpose_debt_consolidation\n",
      "1    234169\n",
      "0    161050\n",
      "Name: purpose_debt_consolidation, dtype: int64\n",
      "\n",
      "\n",
      "\n",
      "\n",
      "purpose_educational\n",
      "0    394973\n",
      "1       246\n",
      "Name: purpose_educational, dtype: int64\n",
      "\n",
      "\n",
      "\n",
      "\n",
      "purpose_home_improvement\n",
      "0    371258\n",
      "1     23961\n",
      "Name: purpose_home_improvement, dtype: int64\n",
      "\n",
      "\n",
      "\n",
      "\n",
      "purpose_house\n",
      "0    393022\n",
      "1      2197\n",
      "Name: purpose_house, dtype: int64\n",
      "\n",
      "\n",
      "\n",
      "\n",
      "purpose_major_purchase\n",
      "0    386463\n",
      "1      8756\n",
      "Name: purpose_major_purchase, dtype: int64\n",
      "\n",
      "\n",
      "\n",
      "\n",
      "purpose_medical\n",
      "0    391044\n",
      "1      4175\n",
      "Name: purpose_medical, dtype: int64\n",
      "\n",
      "\n",
      "\n",
      "\n",
      "purpose_moving\n",
      "0    392377\n",
      "1      2842\n",
      "Name: purpose_moving, dtype: int64\n",
      "\n",
      "\n",
      "\n",
      "\n",
      "purpose_other\n",
      "0    374160\n",
      "1     21059\n",
      "Name: purpose_other, dtype: int64\n",
      "\n",
      "\n",
      "\n",
      "\n",
      "purpose_renewable_energy\n",
      "0    394890\n",
      "1       329\n",
      "Name: purpose_renewable_energy, dtype: int64\n",
      "\n",
      "\n",
      "\n",
      "\n",
      "purpose_small_business\n",
      "0    389563\n",
      "1      5656\n",
      "Name: purpose_small_business, dtype: int64\n",
      "\n",
      "\n",
      "\n",
      "\n",
      "purpose_vacation\n",
      "0    392777\n",
      "1      2442\n",
      "Name: purpose_vacation, dtype: int64\n",
      "\n",
      "\n",
      "\n",
      "\n",
      "purpose_wedding\n",
      "0    393425\n",
      "1      1794\n",
      "Name: purpose_wedding, dtype: int64\n",
      "\n",
      "\n",
      "\n",
      "\n"
     ]
    }
   ],
   "source": [
    "for i in df.columns:\n",
    "    print(i)\n",
    "    print(df[i].value_counts())\n",
    "    print('\\n')\n",
    "    print('\\n')"
   ]
  },
  {
   "cell_type": "markdown",
   "id": "8bdd3c52",
   "metadata": {},
   "source": [
    "## home_ownership\n",
    "\n",
    "**Seeing all the unique values in home_ownership**"
   ]
  },
  {
   "cell_type": "code",
   "execution_count": 74,
   "id": "58c14558",
   "metadata": {},
   "outputs": [
    {
     "data": {
      "text/plain": [
       "MORTGAGE    198022\n",
       "RENT        159395\n",
       "OWN          37660\n",
       "OTHER          110\n",
       "NONE            29\n",
       "ANY              3\n",
       "Name: home_ownership, dtype: int64"
      ]
     },
     "execution_count": 74,
     "metadata": {},
     "output_type": "execute_result"
    }
   ],
   "source": [
    "df['home_ownership'].value_counts()"
   ]
  },
  {
   "cell_type": "markdown",
   "id": "8f34c485",
   "metadata": {},
   "source": [
    "**Converting home_ownership into dummy variables, but merging 'ANY' and 'NONE' into 'OTHER'**"
   ]
  },
  {
   "cell_type": "code",
   "execution_count": 75,
   "id": "8a0e4941",
   "metadata": {},
   "outputs": [],
   "source": [
    "df['home_ownership']=df['home_ownership'].replace(['NONE', 'ANY'], 'OTHER')"
   ]
  },
  {
   "cell_type": "code",
   "execution_count": 76,
   "id": "03d278cb",
   "metadata": {},
   "outputs": [
    {
     "data": {
      "text/plain": [
       "MORTGAGE    198022\n",
       "RENT        159395\n",
       "OWN          37660\n",
       "OTHER          142\n",
       "Name: home_ownership, dtype: int64"
      ]
     },
     "execution_count": 76,
     "metadata": {},
     "output_type": "execute_result"
    }
   ],
   "source": [
    "df['home_ownership'].value_counts()"
   ]
  },
  {
   "cell_type": "code",
   "execution_count": 77,
   "id": "ce2c2deb",
   "metadata": {},
   "outputs": [],
   "source": [
    "df = pd.get_dummies(df, columns=['home_ownership'])"
   ]
  },
  {
   "cell_type": "code",
   "execution_count": 78,
   "id": "01d90f0c",
   "metadata": {},
   "outputs": [
    {
     "data": {
      "text/plain": [
       "Index(['loan_amnt', 'term', 'int_rate', 'installment', 'annual_inc', 'issue_d',\n",
       "       'loan_status', 'dti', 'earliest_cr_line', 'open_acc', 'pub_rec',\n",
       "       'revol_bal', 'revol_util', 'total_acc', 'mort_acc',\n",
       "       'pub_rec_bankruptcies', 'address', 'loan_repaid', 'sub_grade_A1',\n",
       "       'sub_grade_A2', 'sub_grade_A3', 'sub_grade_A4', 'sub_grade_A5',\n",
       "       'sub_grade_B1', 'sub_grade_B2', 'sub_grade_B3', 'sub_grade_B4',\n",
       "       'sub_grade_B5', 'sub_grade_C1', 'sub_grade_C2', 'sub_grade_C3',\n",
       "       'sub_grade_C4', 'sub_grade_C5', 'sub_grade_D1', 'sub_grade_D2',\n",
       "       'sub_grade_D3', 'sub_grade_D4', 'sub_grade_D5', 'sub_grade_E1',\n",
       "       'sub_grade_E2', 'sub_grade_E3', 'sub_grade_E4', 'sub_grade_E5',\n",
       "       'sub_grade_F1', 'sub_grade_F2', 'sub_grade_F3', 'sub_grade_F4',\n",
       "       'sub_grade_F5', 'sub_grade_G1', 'sub_grade_G2', 'sub_grade_G3',\n",
       "       'sub_grade_G4', 'sub_grade_G5', 'verification_status_Not Verified',\n",
       "       'verification_status_Source Verified', 'verification_status_Verified',\n",
       "       'application_type_DIRECT_PAY', 'application_type_INDIVIDUAL',\n",
       "       'application_type_JOINT', 'initial_list_status_f', 'purpose_car',\n",
       "       'purpose_credit_card', 'purpose_debt_consolidation',\n",
       "       'purpose_educational', 'purpose_home_improvement', 'purpose_house',\n",
       "       'purpose_major_purchase', 'purpose_medical', 'purpose_moving',\n",
       "       'purpose_other', 'purpose_renewable_energy', 'purpose_small_business',\n",
       "       'purpose_vacation', 'purpose_wedding', 'home_ownership_MORTGAGE',\n",
       "       'home_ownership_OTHER', 'home_ownership_OWN', 'home_ownership_RENT'],\n",
       "      dtype='object')"
      ]
     },
     "execution_count": 78,
     "metadata": {},
     "output_type": "execute_result"
    }
   ],
   "source": [
    "df.columns"
   ]
  },
  {
   "cell_type": "markdown",
   "id": "f666cb45",
   "metadata": {},
   "source": [
    "## address\n",
    "\n",
    "**Extracting the zipcode off of address**"
   ]
  },
  {
   "cell_type": "code",
   "execution_count": 79,
   "id": "69f69acc",
   "metadata": {},
   "outputs": [
    {
     "data": {
      "text/plain": [
       "0              0174 Michelle Gateway\\nMendozaberg, OK 22690\n",
       "1           1076 Carney Fort Apt. 347\\nLoganmouth, SD 05113\n",
       "2           87025 Mark Dale Apt. 269\\nNew Sabrina, WV 05113\n",
       "3                     823 Reid Ford\\nDelacruzside, MA 00813\n",
       "4                      679 Luna Roads\\nGreggshire, VA 11650\n",
       "                                ...                        \n",
       "396025       12951 Williams Crossing\\nJohnnyville, DC 30723\n",
       "396026    0114 Fowler Field Suite 028\\nRachelborough, LA...\n",
       "396027     953 Matthew Points Suite 414\\nReedfort, NY 70466\n",
       "396028    7843 Blake Freeway Apt. 229\\nNew Michael, FL 2...\n",
       "396029          787 Michelle Causeway\\nBriannaton, AR 48052\n",
       "Name: address, Length: 395219, dtype: object"
      ]
     },
     "execution_count": 79,
     "metadata": {},
     "output_type": "execute_result"
    }
   ],
   "source": [
    "df['address']"
   ]
  },
  {
   "cell_type": "code",
   "execution_count": 80,
   "id": "cacbbab3",
   "metadata": {},
   "outputs": [],
   "source": [
    "df['zip_code'] = df['address'].apply(lambda x:x.split()[-1])"
   ]
  },
  {
   "cell_type": "markdown",
   "id": "b382905a",
   "metadata": {},
   "source": [
    "**Turning zip_code into dummy variables**"
   ]
  },
  {
   "cell_type": "code",
   "execution_count": 81,
   "id": "154bc3a8",
   "metadata": {},
   "outputs": [
    {
     "data": {
      "text/plain": [
       "70466    56880\n",
       "22690    56413\n",
       "30723    56402\n",
       "48052    55811\n",
       "00813    45725\n",
       "29597    45393\n",
       "05113    45300\n",
       "11650    11210\n",
       "93700    11126\n",
       "86630    10959\n",
       "Name: zip_code, dtype: int64"
      ]
     },
     "execution_count": 81,
     "metadata": {},
     "output_type": "execute_result"
    }
   ],
   "source": [
    "df['zip_code'].value_counts()"
   ]
  },
  {
   "cell_type": "code",
   "execution_count": 82,
   "id": "99ace57c",
   "metadata": {},
   "outputs": [],
   "source": [
    "df = pd.get_dummies(df, columns=['zip_code'])"
   ]
  },
  {
   "cell_type": "code",
   "execution_count": 83,
   "id": "644afe6c",
   "metadata": {},
   "outputs": [],
   "source": [
    "df.drop(['address'],axis=1,inplace=True)"
   ]
  },
  {
   "cell_type": "markdown",
   "id": "90d85c58",
   "metadata": {},
   "source": [
    "## issue_d \n",
    "\n",
    "**issue_d is the date when the loan was funded, so it already says if the loan was paid off or not, we need to remove this column to avoid data leakage**"
   ]
  },
  {
   "cell_type": "code",
   "execution_count": 84,
   "id": "215ac698",
   "metadata": {},
   "outputs": [
    {
     "name": "stdout",
     "output_type": "stream",
     "text": [
      "The month which the loan was funded\n"
     ]
    }
   ],
   "source": [
    "feat_info('issue_d')"
   ]
  },
  {
   "cell_type": "code",
   "execution_count": 85,
   "id": "808b75cf",
   "metadata": {},
   "outputs": [],
   "source": [
    "df.drop(['issue_d'],axis=1,inplace=True)"
   ]
  },
  {
   "cell_type": "markdown",
   "id": "11448998",
   "metadata": {},
   "source": [
    "## earliest_cr_line\n",
    "\n",
    "**Extracting the year off of the earliest_cr_line to keep only the year**"
   ]
  },
  {
   "cell_type": "code",
   "execution_count": 86,
   "id": "f5258b66",
   "metadata": {},
   "outputs": [
    {
     "data": {
      "text/plain": [
       "Oct-2000    3013\n",
       "Aug-2000    2930\n",
       "Oct-2001    2890\n",
       "Aug-2001    2879\n",
       "Nov-2000    2729\n",
       "            ... \n",
       "Jul-1955       1\n",
       "Oct-1950       1\n",
       "May-1958       1\n",
       "Nov-1955       1\n",
       "Aug-1959       1\n",
       "Name: earliest_cr_line, Length: 684, dtype: int64"
      ]
     },
     "execution_count": 86,
     "metadata": {},
     "output_type": "execute_result"
    }
   ],
   "source": [
    "df['earliest_cr_line'].value_counts()"
   ]
  },
  {
   "cell_type": "code",
   "execution_count": 92,
   "id": "aa26f47a",
   "metadata": {},
   "outputs": [],
   "source": [
    "df['earliest_cr_line'] = pd.to_datetime(df['earliest_cr_line'],format='%b-%Y')"
   ]
  },
  {
   "cell_type": "code",
   "execution_count": 93,
   "id": "4f6cd9f2",
   "metadata": {},
   "outputs": [
    {
     "data": {
      "text/plain": [
       "2000-10-01    3013\n",
       "2000-08-01    2930\n",
       "2001-10-01    2890\n",
       "2001-08-01    2879\n",
       "2000-11-01    2729\n",
       "              ... \n",
       "1955-07-01       1\n",
       "1950-10-01       1\n",
       "1958-05-01       1\n",
       "1955-11-01       1\n",
       "1959-08-01       1\n",
       "Name: earliest_cr_line, Length: 684, dtype: int64"
      ]
     },
     "execution_count": 93,
     "metadata": {},
     "output_type": "execute_result"
    }
   ],
   "source": [
    "df['earliest_cr_line'].value_counts()"
   ]
  },
  {
   "cell_type": "code",
   "execution_count": 96,
   "id": "dd7e3a42",
   "metadata": {},
   "outputs": [],
   "source": [
    "df['earliest_cr_year'] = pd.DatetimeIndex(df['earliest_cr_line']).year"
   ]
  },
  {
   "cell_type": "code",
   "execution_count": 98,
   "id": "07bb4ccd",
   "metadata": {
    "scrolled": false
   },
   "outputs": [
    {
     "data": {
      "text/plain": [
       "2000    29302\n",
       "2001    29031\n",
       "1999    26444\n",
       "2002    25849\n",
       "2003    23623\n",
       "        ...  \n",
       "1951        3\n",
       "1950        3\n",
       "1953        2\n",
       "1944        1\n",
       "1948        1\n",
       "Name: earliest_cr_year, Length: 65, dtype: int64"
      ]
     },
     "execution_count": 98,
     "metadata": {},
     "output_type": "execute_result"
    }
   ],
   "source": [
    "df['earliest_cr_year'].value_counts()"
   ]
  },
  {
   "cell_type": "code",
   "execution_count": 99,
   "id": "36007f6a",
   "metadata": {},
   "outputs": [],
   "source": [
    "df.drop(['earliest_cr_line'],axis=1,inplace=True)"
   ]
  },
  {
   "cell_type": "markdown",
   "id": "034362de",
   "metadata": {},
   "source": [
    "**We can drop the loan_status since it has the same info as loan_repaid**"
   ]
  },
  {
   "cell_type": "code",
   "execution_count": 103,
   "id": "d0645dce",
   "metadata": {},
   "outputs": [],
   "source": [
    "df.drop(['loan_status'],inplace=True,axis=1)"
   ]
  },
  {
   "cell_type": "markdown",
   "id": "e3bd4436",
   "metadata": {},
   "source": [
    "# Step 3: Train Test Split"
   ]
  },
  {
   "cell_type": "code",
   "execution_count": 100,
   "id": "bdae3f82",
   "metadata": {},
   "outputs": [],
   "source": [
    "from sklearn.model_selection import train_test_split"
   ]
  },
  {
   "cell_type": "code",
   "execution_count": 188,
   "id": "6241e220",
   "metadata": {},
   "outputs": [
    {
     "data": {
      "text/plain": [
       "Index(['loan_amnt', 'term', 'int_rate', 'installment', 'annual_inc', 'dti',\n",
       "       'open_acc', 'pub_rec', 'revol_bal', 'revol_util', 'total_acc',\n",
       "       'mort_acc', 'pub_rec_bankruptcies', 'loan_repaid', 'sub_grade_A1',\n",
       "       'sub_grade_A2', 'sub_grade_A3', 'sub_grade_A4', 'sub_grade_A5',\n",
       "       'sub_grade_B1', 'sub_grade_B2', 'sub_grade_B3', 'sub_grade_B4',\n",
       "       'sub_grade_B5', 'sub_grade_C1', 'sub_grade_C2', 'sub_grade_C3',\n",
       "       'sub_grade_C4', 'sub_grade_C5', 'sub_grade_D1', 'sub_grade_D2',\n",
       "       'sub_grade_D3', 'sub_grade_D4', 'sub_grade_D5', 'sub_grade_E1',\n",
       "       'sub_grade_E2', 'sub_grade_E3', 'sub_grade_E4', 'sub_grade_E5',\n",
       "       'sub_grade_F1', 'sub_grade_F2', 'sub_grade_F3', 'sub_grade_F4',\n",
       "       'sub_grade_F5', 'sub_grade_G1', 'sub_grade_G2', 'sub_grade_G3',\n",
       "       'sub_grade_G4', 'sub_grade_G5', 'verification_status_Not Verified',\n",
       "       'verification_status_Source Verified', 'verification_status_Verified',\n",
       "       'application_type_DIRECT_PAY', 'application_type_INDIVIDUAL',\n",
       "       'application_type_JOINT', 'initial_list_status_f', 'purpose_car',\n",
       "       'purpose_credit_card', 'purpose_debt_consolidation',\n",
       "       'purpose_educational', 'purpose_home_improvement', 'purpose_house',\n",
       "       'purpose_major_purchase', 'purpose_medical', 'purpose_moving',\n",
       "       'purpose_other', 'purpose_renewable_energy', 'purpose_small_business',\n",
       "       'purpose_vacation', 'purpose_wedding', 'home_ownership_MORTGAGE',\n",
       "       'home_ownership_OTHER', 'home_ownership_OWN', 'home_ownership_RENT',\n",
       "       'zip_code_00813', 'zip_code_05113', 'zip_code_11650', 'zip_code_22690',\n",
       "       'zip_code_29597', 'zip_code_30723', 'zip_code_48052', 'zip_code_70466',\n",
       "       'zip_code_86630', 'zip_code_93700', 'earliest_cr_year'],\n",
       "      dtype='object')"
      ]
     },
     "execution_count": 188,
     "metadata": {},
     "output_type": "execute_result"
    }
   ],
   "source": [
    "df.columns"
   ]
  },
  {
   "cell_type": "markdown",
   "id": "2da436ee",
   "metadata": {},
   "source": [
    "**Setting X and y**"
   ]
  },
  {
   "cell_type": "code",
   "execution_count": 108,
   "id": "82677862",
   "metadata": {},
   "outputs": [],
   "source": [
    "X = df.drop(['loan_repaid'],axis=1).values\n",
    "y = df['loan_repaid'].values"
   ]
  },
  {
   "cell_type": "markdown",
   "id": "7756ce6f",
   "metadata": {},
   "source": [
    "**Performing a train/test split with test_size=0.2 and a random_state of 101.**"
   ]
  },
  {
   "cell_type": "code",
   "execution_count": 110,
   "id": "031b33be",
   "metadata": {},
   "outputs": [],
   "source": [
    "X_train, X_test, y_train, y_test = train_test_split(X, y, test_size=0.2, random_state=101)"
   ]
  },
  {
   "cell_type": "markdown",
   "id": "111312e0",
   "metadata": {},
   "source": [
    "## Normalizing the Data\n",
    "\n",
    "**Using a MinMaxScaler to normalize the feature data X_train and X_test. Recall we don't want data leakage from the test set so we only fit on the X_train data.**"
   ]
  },
  {
   "cell_type": "code",
   "execution_count": 116,
   "id": "552998b7",
   "metadata": {},
   "outputs": [],
   "source": [
    "from sklearn.preprocessing import MinMaxScaler"
   ]
  },
  {
   "cell_type": "code",
   "execution_count": 118,
   "id": "4e23f616",
   "metadata": {},
   "outputs": [],
   "source": [
    "scaler = MinMaxScaler()"
   ]
  },
  {
   "cell_type": "code",
   "execution_count": 121,
   "id": "fbacc731",
   "metadata": {},
   "outputs": [],
   "source": [
    "X_train = scaler.fit_transform(X_train)"
   ]
  },
  {
   "cell_type": "code",
   "execution_count": 122,
   "id": "f0e29b44",
   "metadata": {},
   "outputs": [],
   "source": [
    "X_test = scaler.transform(X_test)"
   ]
  },
  {
   "cell_type": "markdown",
   "id": "57cc8350",
   "metadata": {},
   "source": [
    "# Step 4: Creating the Model\n",
    "\n",
    "**Importing the tensorflow and keras necessary libraries**"
   ]
  },
  {
   "cell_type": "code",
   "execution_count": 125,
   "id": "518455f4",
   "metadata": {},
   "outputs": [],
   "source": [
    "import tensorflow as tf\n",
    "from tensorflow.keras.models import Sequential\n",
    "from tensorflow.keras.layers import Dense, Activation,Dropout\n",
    "from tensorflow.keras.constraints import max_norm\n",
    "from tensorflow.keras.callbacks import EarlyStopping"
   ]
  },
  {
   "cell_type": "markdown",
   "id": "eef22451",
   "metadata": {},
   "source": [
    "**Building a sequential model with a format of 78 -> 39 -> 19 -> 1, and with a dropout of 20% on each layer**"
   ]
  },
  {
   "cell_type": "code",
   "execution_count": 124,
   "id": "ac19f4f2",
   "metadata": {},
   "outputs": [],
   "source": [
    "model = Sequential()\n",
    "\n",
    "# https://stats.stackexchange.com/questions/181/how-to-choose-the-number-of-hidden-layers-and-nodes-in-a-feedforward-neural-netw\n",
    "\n",
    "\n",
    "# input layer\n",
    "model.add(Dense(78,  activation='relu'))\n",
    "model.add(Dropout(0.2))\n",
    "\n",
    "# hidden layer\n",
    "model.add(Dense(39, activation='relu'))\n",
    "model.add(Dropout(0.2))\n",
    "\n",
    "# hidden layer\n",
    "model.add(Dense(19, activation='relu'))\n",
    "model.add(Dropout(0.2))\n",
    "\n",
    "# output layer\n",
    "model.add(Dense(units=1,activation='sigmoid'))\n",
    "\n",
    "# Compile model\n",
    "model.compile(loss='binary_crossentropy', optimizer='adam')"
   ]
  },
  {
   "cell_type": "code",
   "execution_count": 165,
   "id": "60795e14",
   "metadata": {},
   "outputs": [
    {
     "data": {
      "text/plain": [
       "(316175, 84)"
      ]
     },
     "execution_count": 165,
     "metadata": {},
     "output_type": "execute_result"
    }
   ],
   "source": [
    "X_train.shape"
   ]
  },
  {
   "cell_type": "markdown",
   "id": "bb728a1b",
   "metadata": {},
   "source": [
    "**Adding an early stopping mechanism and setting a really high epochs number**"
   ]
  },
  {
   "cell_type": "code",
   "execution_count": 126,
   "id": "c0e48a64",
   "metadata": {},
   "outputs": [],
   "source": [
    "early_stop = EarlyStopping(monitor='val_loss', mode='min', verbose=1, patience=25)"
   ]
  },
  {
   "cell_type": "code",
   "execution_count": 127,
   "id": "161570d9",
   "metadata": {},
   "outputs": [
    {
     "name": "stdout",
     "output_type": "stream",
     "text": [
      "Epoch 1/1000\n",
      "9881/9881 [==============================] - 36s 3ms/step - loss: 0.2711 - val_loss: 0.2650\n",
      "Epoch 2/1000\n",
      "9881/9881 [==============================] - 32s 3ms/step - loss: 0.2617 - val_loss: 0.2623\n",
      "Epoch 3/1000\n",
      "9881/9881 [==============================] - 33s 3ms/step - loss: 0.2610 - val_loss: 0.2624\n",
      "Epoch 4/1000\n",
      "9881/9881 [==============================] - 32s 3ms/step - loss: 0.2609 - val_loss: 0.2616\n",
      "Epoch 5/1000\n",
      "9881/9881 [==============================] - 30s 3ms/step - loss: 0.2605 - val_loss: 0.2624\n",
      "Epoch 6/1000\n",
      "9881/9881 [==============================] - 31s 3ms/step - loss: 0.2601 - val_loss: 0.2613\n",
      "Epoch 7/1000\n",
      "9881/9881 [==============================] - 31s 3ms/step - loss: 0.2599 - val_loss: 0.2616\n",
      "Epoch 8/1000\n",
      "9881/9881 [==============================] - 31s 3ms/step - loss: 0.2597 - val_loss: 0.2661\n",
      "Epoch 9/1000\n",
      "9881/9881 [==============================] - 31s 3ms/step - loss: 0.2594 - val_loss: 0.2622\n",
      "Epoch 10/1000\n",
      "9881/9881 [==============================] - 31s 3ms/step - loss: 0.2594 - val_loss: 0.2612\n",
      "Epoch 11/1000\n",
      "9881/9881 [==============================] - 31s 3ms/step - loss: 0.2592 - val_loss: 0.2618\n",
      "Epoch 12/1000\n",
      "9881/9881 [==============================] - 34s 3ms/step - loss: 0.2590 - val_loss: 0.2617\n",
      "Epoch 13/1000\n",
      "9881/9881 [==============================] - 32s 3ms/step - loss: 0.2588 - val_loss: 0.2621\n",
      "Epoch 14/1000\n",
      "9881/9881 [==============================] - 34s 3ms/step - loss: 0.2588 - val_loss: 0.2615\n",
      "Epoch 15/1000\n",
      "9881/9881 [==============================] - 32s 3ms/step - loss: 0.2588 - val_loss: 0.2622\n",
      "Epoch 16/1000\n",
      "9881/9881 [==============================] - 32s 3ms/step - loss: 0.2585 - val_loss: 0.2614\n",
      "Epoch 17/1000\n",
      "9881/9881 [==============================] - 31s 3ms/step - loss: 0.2584 - val_loss: 0.2621\n",
      "Epoch 18/1000\n",
      "9881/9881 [==============================] - 31s 3ms/step - loss: 0.2583 - val_loss: 0.2614\n",
      "Epoch 19/1000\n",
      "9881/9881 [==============================] - 31s 3ms/step - loss: 0.2582 - val_loss: 0.2615\n",
      "Epoch 20/1000\n",
      "9881/9881 [==============================] - 31s 3ms/step - loss: 0.2582 - val_loss: 0.2619\n",
      "Epoch 21/1000\n",
      "9881/9881 [==============================] - 31s 3ms/step - loss: 0.2581 - val_loss: 0.2627\n",
      "Epoch 22/1000\n",
      "9881/9881 [==============================] - 31s 3ms/step - loss: 0.2580 - val_loss: 0.2614\n",
      "Epoch 23/1000\n",
      "9881/9881 [==============================] - 32s 3ms/step - loss: 0.2581 - val_loss: 0.2615\n",
      "Epoch 24/1000\n",
      "9881/9881 [==============================] - 32s 3ms/step - loss: 0.2579 - val_loss: 0.2621\n",
      "Epoch 25/1000\n",
      "9881/9881 [==============================] - 31s 3ms/step - loss: 0.2577 - val_loss: 0.2618\n",
      "Epoch 26/1000\n",
      "9881/9881 [==============================] - 31s 3ms/step - loss: 0.2578 - val_loss: 0.2615\n",
      "Epoch 27/1000\n",
      "9881/9881 [==============================] - 31s 3ms/step - loss: 0.2573 - val_loss: 0.2635\n",
      "Epoch 28/1000\n",
      "9881/9881 [==============================] - 31s 3ms/step - loss: 0.2575 - val_loss: 0.2617\n",
      "Epoch 29/1000\n",
      "9881/9881 [==============================] - 31s 3ms/step - loss: 0.2572 - val_loss: 0.2618\n",
      "Epoch 30/1000\n",
      "9881/9881 [==============================] - 31s 3ms/step - loss: 0.2572 - val_loss: 0.2623\n",
      "Epoch 31/1000\n",
      "9881/9881 [==============================] - 31s 3ms/step - loss: 0.2571 - val_loss: 0.2620\n",
      "Epoch 32/1000\n",
      "9881/9881 [==============================] - 31s 3ms/step - loss: 0.2568 - val_loss: 0.2623\n",
      "Epoch 33/1000\n",
      "9881/9881 [==============================] - 31s 3ms/step - loss: 0.2568 - val_loss: 0.2618\n",
      "Epoch 34/1000\n",
      "9881/9881 [==============================] - 31s 3ms/step - loss: 0.2568 - val_loss: 0.2619\n",
      "Epoch 35/1000\n",
      "9881/9881 [==============================] - 31s 3ms/step - loss: 0.2566 - val_loss: 0.2618\n",
      "Epoch 35: early stopping\n"
     ]
    },
    {
     "data": {
      "text/plain": [
       "<keras.callbacks.History at 0x2a1b43860a0>"
      ]
     },
     "execution_count": 127,
     "metadata": {},
     "output_type": "execute_result"
    }
   ],
   "source": [
    "model.fit(x=X_train, \n",
    "          y=y_train, \n",
    "          epochs=1000,\n",
    "          validation_data=(X_test, y_test),\n",
    "          verbose = 1,\n",
    "          callbacks=[early_stop]\n",
    "          )"
   ]
  },
  {
   "cell_type": "markdown",
   "id": "67dc2261",
   "metadata": {},
   "source": [
    "**Saving the model**"
   ]
  },
  {
   "cell_type": "code",
   "execution_count": 129,
   "id": "0bdb9dc2",
   "metadata": {},
   "outputs": [],
   "source": [
    "from tensorflow.keras.models import load_model"
   ]
  },
  {
   "cell_type": "code",
   "execution_count": 130,
   "id": "9e378423",
   "metadata": {},
   "outputs": [],
   "source": [
    "model.save('fb_first_model.h5')"
   ]
  },
  {
   "cell_type": "markdown",
   "id": "3261e19e",
   "metadata": {},
   "source": [
    "# Step 5: Evaluating Model Performance.\n",
    "\n",
    "**Plotting out the validation loss versus the training loss.**"
   ]
  },
  {
   "cell_type": "code",
   "execution_count": 128,
   "id": "14d679e6",
   "metadata": {},
   "outputs": [
    {
     "data": {
      "text/plain": [
       "<AxesSubplot:>"
      ]
     },
     "execution_count": 128,
     "metadata": {},
     "output_type": "execute_result"
    },
    {
     "data": {
      "image/png": "[encoded data removed]",
      "text/plain": [
       "<Figure size 432x288 with 1 Axes>"
      ]
     },
     "metadata": {
      "needs_background": "light"
     },
     "output_type": "display_data"
    }
   ],
   "source": [
    "model_loss = pd.DataFrame(model.history.history)\n",
    "model_loss.plot()"
   ]
  },
  {
   "cell_type": "markdown",
   "id": "9560865c",
   "metadata": {},
   "source": [
    "**Creating predictions off of X_test and evaluating it comparing to the y_test**"
   ]
  },
  {
   "cell_type": "code",
   "execution_count": 132,
   "id": "1114da0d",
   "metadata": {},
   "outputs": [],
   "source": [
    "from sklearn.metrics import classification_report,confusion_matrix"
   ]
  },
  {
   "cell_type": "code",
   "execution_count": 149,
   "id": "11af5f8b",
   "metadata": {
    "scrolled": true
   },
   "outputs": [
    {
     "name": "stdout",
     "output_type": "stream",
     "text": [
      "2471/2471 [==============================] - 5s 2ms/step\n"
     ]
    }
   ],
   "source": [
    "predictions = (model.predict(X_test) > 0.5)*1 #OR:\n",
    "#predictions = (model.predict(X_test) > 0.5).astype(\"int32\")"
   ]
  },
  {
   "cell_type": "markdown",
   "id": "c0c3d121",
   "metadata": {},
   "source": [
    "**As we can see, our model is performing pretty well, with an overall accurary of about 89%**"
   ]
  },
  {
   "cell_type": "code",
   "execution_count": 150,
   "id": "d36efb7c",
   "metadata": {
    "scrolled": true
   },
   "outputs": [
    {
     "name": "stdout",
     "output_type": "stream",
     "text": [
      "[[ 7091  8567]\n",
      " [  292 63094]]\n",
      "              precision    recall  f1-score   support\n",
      "\n",
      "           0       0.96      0.45      0.62     15658\n",
      "           1       0.88      1.00      0.93     63386\n",
      "\n",
      "    accuracy                           0.89     79044\n",
      "   macro avg       0.92      0.72      0.77     79044\n",
      "weighted avg       0.90      0.89      0.87     79044\n",
      "\n"
     ]
    }
   ],
   "source": [
    "print(confusion_matrix(y_test,predictions))\n",
    "print(classification_report(y_test,predictions))"
   ]
  },
  {
   "cell_type": "markdown",
   "id": "bd7a9d41",
   "metadata": {},
   "source": [
    "**Creating a random customer to try to predict whether he fully paid or not**"
   ]
  },
  {
   "cell_type": "code",
   "execution_count": 166,
   "id": "bb3a0622",
   "metadata": {
    "scrolled": false
   },
   "outputs": [
    {
     "data": {
      "text/plain": [
       "loan_amnt           25000.00\n",
       "term                   60.00\n",
       "int_rate               18.24\n",
       "installment           638.11\n",
       "annual_inc          61665.00\n",
       "                      ...   \n",
       "zip_code_48052          0.00\n",
       "zip_code_70466          0.00\n",
       "zip_code_86630          0.00\n",
       "zip_code_93700          0.00\n",
       "earliest_cr_year     1996.00\n",
       "Name: 305323, Length: 84, dtype: float64"
      ]
     },
     "execution_count": 166,
     "metadata": {},
     "output_type": "execute_result"
    }
   ],
   "source": [
    "import random\n",
    "random.seed(101)\n",
    "random_ind = random.randint(0,len(df))\n",
    "\n",
    "new_customer = df.drop('loan_repaid',axis=1).iloc[random_ind]\n",
    "new_customer"
   ]
  },
  {
   "cell_type": "code",
   "execution_count": 172,
   "id": "861622ef",
   "metadata": {},
   "outputs": [],
   "source": [
    "new_customer = scaler.transform(new_customer.values.reshape(1,84))"
   ]
  },
  {
   "cell_type": "code",
   "execution_count": 174,
   "id": "ce7e8337",
   "metadata": {
    "scrolled": true
   },
   "outputs": [
    {
     "name": "stdout",
     "output_type": "stream",
     "text": [
      "1/1 [==============================] - 0s 38ms/step\n"
     ]
    }
   ],
   "source": [
    "new_customer_prediction = (model.predict(new_customer) > 0.5).astype(\"int32\")"
   ]
  },
  {
   "cell_type": "markdown",
   "id": "7e1a3bfc",
   "metadata": {},
   "source": [
    "**Our model's prediction:**"
   ]
  },
  {
   "cell_type": "code",
   "execution_count": 176,
   "id": "f6a6eaee",
   "metadata": {
    "scrolled": true
   },
   "outputs": [
    {
     "name": "stdout",
     "output_type": "stream",
     "text": [
      "[[1]]\n"
     ]
    }
   ],
   "source": [
    "print(new_customer_prediction)"
   ]
  },
  {
   "cell_type": "markdown",
   "id": "3614e109",
   "metadata": {},
   "source": [
    "**Checking whether the person paid the loan or not**"
   ]
  },
  {
   "cell_type": "code",
   "execution_count": 179,
   "id": "9ffbf91a",
   "metadata": {
    "scrolled": true
   },
   "outputs": [
    {
     "data": {
      "text/plain": [
       "1.0"
      ]
     },
     "execution_count": 179,
     "metadata": {},
     "output_type": "execute_result"
    }
   ],
   "source": [
    "df.iloc[random_ind]['loan_repaid']"
   ]
  },
  {
   "cell_type": "code",
   "execution_count": 182,
   "id": "e6d58be9",
   "metadata": {},
   "outputs": [
    {
     "name": "stdout",
     "output_type": "stream",
     "text": [
      "[[ True]]\n"
     ]
    }
   ],
   "source": [
    "print(new_customer_prediction == df.iloc[random_ind]['loan_repaid'])"
   ]
  },
  {
   "cell_type": "markdown",
   "id": "1311bfcc",
   "metadata": {},
   "source": [
    "# By: Francisco Barroca"
   ]
  },
  {
   "cell_type": "markdown",
   "id": "6adbc4d4",
   "metadata": {},
   "source": [
    "# lending_club\n",
    "Lending Club Database Analysis and Machine Learning Alghoritms\n",
    "\n",
    "This project took the following steps:\n",
    "  - Starter Code (importing libraries, setting up the description and main dataframes and seeing whether there are missing values)\n",
    "  - Exploratory Data Analysis (understanding the importance of each column and their correlations before transforming the data)\n",
    "  - Data Pre Processing (transforming the data - filling in, removing, creating dummy variables and transforming the format of the data to prepare for the model)\n",
    "  - Train/Test Split (after having the data ready, we can split the data into training and testing data and normalize it with a MinMaxScaler)\n",
    "  - Creating the model (a model with 4 layers, implemented dropout of 20% and early stopping, using the adam optimizer)\n",
    "  - Evaluating the model and testing with a new random client (checking for overfitting, and evaluating the model with a classification report and a confusion matrix)"
   ]
  }
 ],
 "metadata": {
  "kernelspec": {
   "display_name": "Python 3 (ipykernel)",
   "language": "python",
   "name": "python3"
  },
  "language_info": {
   "codemirror_mode": {
    "name": "ipython",
    "version": 3
   },
   "file_extension": ".py",
   "mimetype": "text/x-python",
   "name": "python",
   "nbconvert_exporter": "python",
   "pygments_lexer": "ipython3",
   "version": "3.9.7"
  }
 },
 "nbformat": 4,
 "nbformat_minor": 5
}
